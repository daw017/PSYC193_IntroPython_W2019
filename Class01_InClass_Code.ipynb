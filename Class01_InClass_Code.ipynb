{
  "nbformat": 4,
  "nbformat_minor": 0,
  "metadata": {
    "colab": {
      "name": "Class01_InClass_Code.ipynb",
      "version": "0.3.2",
      "provenance": [],
      "collapsed_sections": []
    },
    "kernelspec": {
      "name": "python3",
      "display_name": "Python 3"
    }
  },
  "cells": [
    {
      "metadata": {
        "id": "Tm3MLZcxm7s8",
        "colab_type": "text"
      },
      "cell_type": "markdown",
      "source": [
        "# start of inclass for week 01\n",
        "* for loops \n",
        "* list comprehensions\n",
        "* the tuple data type"
      ]
    },
    {
      "metadata": {
        "id": "oeDzE-x7rJNa",
        "colab_type": "text"
      },
      "cell_type": "markdown",
      "source": [
        "## first start with for loops"
      ]
    },
    {
      "metadata": {
        "id": "uGqL0-dBrhlR",
        "colab_type": "code",
        "colab": {
          "base_uri": "https://localhost:8080/",
          "height": 70
        },
        "outputId": "aac50a55-2aa2-4454-e94a-89ca4520d1aa"
      },
      "cell_type": "code",
      "source": [
        "names = ['john', 'ella', 'jack']\n",
        "\n",
        "for name in names:\n",
        "  print(name)\n",
        "  "
      ],
      "execution_count": 2,
      "outputs": [
        {
          "output_type": "stream",
          "text": [
            "john\n",
            "ella\n",
            "jack\n"
          ],
          "name": "stdout"
        }
      ]
    },
    {
      "metadata": {
        "id": "8bSfVLysuXEu",
        "colab_type": "code",
        "colab": {
          "base_uri": "https://localhost:8080/",
          "height": 124
        },
        "outputId": "fcca3844-19f1-4ece-8bc7-eb1e52929e79"
      },
      "cell_type": "code",
      "source": [
        "names = ['john', 'ella', 'jack']\n",
        "\n",
        "for name in names:\n",
        "  print('\\t'+ name.upper() + '\\n')"
      ],
      "execution_count": 7,
      "outputs": [
        {
          "output_type": "stream",
          "text": [
            "\tJOHN\n",
            "\n",
            "\tELLA\n",
            "\n",
            "\tJACK\n",
            "\n"
          ],
          "name": "stdout"
        }
      ]
    },
    {
      "metadata": {
        "id": "Tz4eLFKLvHwc",
        "colab_type": "code",
        "colab": {
          "base_uri": "https://localhost:8080/",
          "height": 88
        },
        "outputId": "f6667b44-05e2-415d-a642-202a9a9e520e"
      },
      "cell_type": "code",
      "source": [
        "names = ['john', 'ella', 'jack']\n",
        "\n",
        "for name in names:\n",
        "  print(name.upper())\n",
        "  \n",
        "  \n",
        "print(name.title())"
      ],
      "execution_count": 14,
      "outputs": [
        {
          "output_type": "stream",
          "text": [
            "JOHN\n",
            "ELLA\n",
            "JACK\n",
            "Jack\n"
          ],
          "name": "stdout"
        }
      ]
    },
    {
      "metadata": {
        "id": "loqF3_mdwIBi",
        "colab_type": "text"
      },
      "cell_type": "markdown",
      "source": [
        "### iterable set of numbers using the 'range' function"
      ]
    },
    {
      "metadata": {
        "id": "YCLlFZiKwpkC",
        "colab_type": "code",
        "colab": {
          "base_uri": "https://localhost:8080/",
          "height": 106
        },
        "outputId": "1000c07b-3690-48fb-94a8-9a6add297b47"
      },
      "cell_type": "code",
      "source": [
        "for i in range(0,5):\n",
        "  print(i)"
      ],
      "execution_count": 16,
      "outputs": [
        {
          "output_type": "stream",
          "text": [
            "0\n",
            "1\n",
            "2\n",
            "3\n",
            "4\n"
          ],
          "name": "stdout"
        }
      ]
    },
    {
      "metadata": {
        "id": "0qkykjiPxKte",
        "colab_type": "code",
        "colab": {
          "base_uri": "https://localhost:8080/",
          "height": 35
        },
        "outputId": "191daa33-c148-4510-9887-28a80d8ed56f"
      },
      "cell_type": "code",
      "source": [
        "# list_num = [1, 2] \n",
        "\n",
        "list_num = list(range(0,6))\n",
        "print(list_num)"
      ],
      "execution_count": 23,
      "outputs": [
        {
          "output_type": "stream",
          "text": [
            "['1', '2']\n"
          ],
          "name": "stdout"
        }
      ]
    },
    {
      "metadata": {
        "id": "M7dxYedLxlG8",
        "colab_type": "code",
        "colab": {
          "base_uri": "https://localhost:8080/",
          "height": 53
        },
        "outputId": "f50ba3e7-5a5f-4d0b-bc68-4c45e510c891"
      },
      "cell_type": "code",
      "source": [
        "skip_num = list(range(0,100,10))\n",
        "print(skip_num)\n",
        "\n",
        "skip_num = list(range(100,0,-10))\n",
        "print(skip_num)"
      ],
      "execution_count": 28,
      "outputs": [
        {
          "output_type": "stream",
          "text": [
            "[0, 10, 20, 30, 40, 50, 60, 70, 80, 90]\n",
            "[100, 90, 80, 70, 60, 50, 40, 30, 20, 10]\n"
          ],
          "name": "stdout"
        }
      ]
    },
    {
      "metadata": {
        "id": "IA4ZVzRDyyrU",
        "colab_type": "text"
      },
      "cell_type": "markdown",
      "source": [
        "## a few more complex for loops"
      ]
    },
    {
      "metadata": {
        "id": "QAHFiRvZy5J8",
        "colab_type": "code",
        "colab": {
          "base_uri": "https://localhost:8080/",
          "height": 53
        },
        "outputId": "61545964-c72f-41ba-d88c-cac931f48511"
      },
      "cell_type": "code",
      "source": [
        "squares = []\n",
        "list_num = list(range(0,6))\n",
        "\n",
        "for number in list_num:\n",
        "  squares.append(number**2)\n",
        "  \n",
        "print(list_num)\n",
        "print(squares)"
      ],
      "execution_count": 36,
      "outputs": [
        {
          "output_type": "stream",
          "text": [
            "[0, 1, 2, 3, 4, 5]\n",
            "[0, 1, 4, 9, 16, 25]\n"
          ],
          "name": "stdout"
        }
      ]
    },
    {
      "metadata": {
        "id": "Ag1sbiMH0Fdn",
        "colab_type": "code",
        "colab": {
          "base_uri": "https://localhost:8080/",
          "height": 70
        },
        "outputId": "fdda4e64-f65c-40b4-931b-ebe0fabecbd7"
      },
      "cell_type": "code",
      "source": [
        "# a few basic math operations are available...\n",
        "print(min(squares))\n",
        "print(max(squares))\n",
        "print(sum(squares))"
      ],
      "execution_count": 34,
      "outputs": [
        {
          "output_type": "stream",
          "text": [
            "0\n",
            "25\n",
            "55\n"
          ],
          "name": "stdout"
        }
      ]
    },
    {
      "metadata": {
        "id": "912c7RWE0ZsU",
        "colab_type": "text"
      },
      "cell_type": "markdown",
      "source": [
        "## list comprehensions"
      ]
    },
    {
      "metadata": {
        "id": "t7auZbJ_0dKR",
        "colab_type": "code",
        "colab": {
          "base_uri": "https://localhost:8080/",
          "height": 35
        },
        "outputId": "59db49f0-d065-4c28-95ce-fdc2ef2f1ebb"
      },
      "cell_type": "code",
      "source": [
        "# new_list = [expression for item in old_list]\n",
        "\n",
        "#for element in old_list:\n",
        "#    do something and put it in a new list  \n",
        "\n",
        "list_num = list(range(0,6))\n",
        "\n",
        "square_num = [num**2 for num in list_num]\n",
        "print(square_num)"
      ],
      "execution_count": 35,
      "outputs": [
        {
          "output_type": "stream",
          "text": [
            "[0, 1, 4, 9, 16, 25]\n"
          ],
          "name": "stdout"
        }
      ]
    },
    {
      "metadata": {
        "id": "kJdyklyQ3zR0",
        "colab_type": "code",
        "colab": {}
      },
      "cell_type": "code",
      "source": [
        ""
      ],
      "execution_count": 0,
      "outputs": []
    },
    {
      "metadata": {
        "id": "sQeKQXE12rwP",
        "colab_type": "code",
        "colab": {
          "base_uri": "https://localhost:8080/",
          "height": 35
        },
        "outputId": "1ecd2b07-d73f-4562-cb50-cec203551e63"
      },
      "cell_type": "code",
      "source": [
        "names = ['bob', 'ella', 'jack']\n",
        "\n",
        "first_letter = [name[0].upper() for name in names]\n",
        "\n",
        "# print caps of first letter of each name\n",
        "print(first_letter)"
      ],
      "execution_count": 4,
      "outputs": [
        {
          "output_type": "stream",
          "text": [
            "['B', 'E', 'J']\n"
          ],
          "name": "stdout"
        }
      ]
    },
    {
      "metadata": {
        "id": "eZqCyupk4Cm3",
        "colab_type": "text"
      },
      "cell_type": "markdown",
      "source": [
        "## slicing (indexing into lists)"
      ]
    },
    {
      "metadata": {
        "id": "61SkPlBS4JTB",
        "colab_type": "code",
        "colab": {
          "base_uri": "https://localhost:8080/",
          "height": 159
        },
        "outputId": "f874763a-d39b-4798-a84c-5c1e8c2de2ff"
      },
      "cell_type": "code",
      "source": [
        "x = list(range(0,15))\n",
        "\n",
        "# pull the first three numbers\n",
        "print(x[0:3])\n",
        "\n",
        "# same thing\n",
        "print(x[:3])\n",
        "\n",
        "# 3rd to end\n",
        "print(x[2:10])\n",
        "\n",
        "# last element\n",
        "print(x[-3])\n",
        "\n",
        "# stepping through list of numbers\n",
        "print(x[0:15:2])\n",
        "\n",
        "# same thing\n",
        "print(x[::2])\n",
        "\n",
        "# reverse (start at begin of list, go to the end, step size of -1)\n",
        "print(x[::-1])\n",
        "\n",
        "# step based on counting from the end\n",
        "print(x[-4:])"
      ],
      "execution_count": 21,
      "outputs": [
        {
          "output_type": "stream",
          "text": [
            "[0, 1, 2]\n",
            "[0, 1, 2]\n",
            "[2, 3, 4, 5, 6, 7, 8, 9]\n",
            "12\n",
            "[0, 2, 4, 6, 8, 10, 12, 14]\n",
            "[0, 2, 4, 6, 8, 10, 12, 14]\n",
            "[14, 13, 12, 11, 10, 9, 8, 7, 6, 5, 4, 3, 2, 1, 0]\n",
            "[11, 12, 13, 14]\n"
          ],
          "name": "stdout"
        }
      ]
    },
    {
      "metadata": {
        "id": "OR3NOL-m6D8c",
        "colab_type": "code",
        "colab": {
          "base_uri": "https://localhost:8080/",
          "height": 88
        },
        "outputId": "111cf450-ec26-494f-fa5e-a7982c70b86e"
      },
      "cell_type": "code",
      "source": [
        "# looping through a slice\n",
        "x = list(range(0,15))\n",
        "\n",
        "for num in x[-4:]:\n",
        "  print(num)"
      ],
      "execution_count": 23,
      "outputs": [
        {
          "output_type": "stream",
          "text": [
            "11\n",
            "12\n",
            "13\n",
            "14\n"
          ],
          "name": "stdout"
        }
      ]
    },
    {
      "metadata": {
        "id": "mOAjkckzCPVf",
        "colab_type": "text"
      },
      "cell_type": "markdown",
      "source": [
        "## use a list of numbers to index into another list "
      ]
    },
    {
      "metadata": {
        "id": "soopPeG36ucM",
        "colab_type": "code",
        "colab": {
          "base_uri": "https://localhost:8080/",
          "height": 70
        },
        "outputId": "16b1fd05-10a0-47e7-84a7-8c0bd5d2935d"
      },
      "cell_type": "code",
      "source": [
        "# make a list of numbers\n",
        "x = list(range(0,3))\n",
        "\n",
        "# make a list of names\n",
        "names = ['john', 'ella', 'jack']\n",
        "\n",
        "for num in x:\n",
        "  # using our list of numbers to index into another list of something else\n",
        "  print(names[num])"
      ],
      "execution_count": 30,
      "outputs": [
        {
          "output_type": "stream",
          "text": [
            "john\n",
            "ella\n",
            "jack\n"
          ],
          "name": "stdout"
        }
      ]
    },
    {
      "metadata": {
        "id": "YxbWn9CBB9KD",
        "colab_type": "text"
      },
      "cell_type": "markdown",
      "source": [
        "## views vs copies\n",
        "* views share the same data\n",
        "  * so changing one will change the other\n",
        "* copies have independent data\n",
        "  * so changing one will not affect the other"
      ]
    },
    {
      "metadata": {
        "id": "cP69FBch7cam",
        "colab_type": "code",
        "colab": {
          "base_uri": "https://localhost:8080/",
          "height": 124
        },
        "outputId": "1cfe3d57-49a3-4b5d-be90-0e7067038233"
      },
      "cell_type": "code",
      "source": [
        "# view vs copy\n",
        "\n",
        "# first create a list of numbers\n",
        "x = list(range(0,3))\n",
        "\n",
        "# create a view of the list\n",
        "# if you create a view, x and y will be looking at the same data\n",
        "# here if you modify y, that will also change x\n",
        "y = x\n",
        "\n",
        "print(x)\n",
        "print(y)\n",
        "\n",
        "y[0] = 10\n",
        "\n",
        "print(x)\n",
        "print(y)\n",
        "\n",
        "# create a copy this time, which will make \n",
        "# an indepent object y that contains its own\n",
        "# copy of the data in x\n",
        "x = list(range(0,3))\n",
        "y = x[:]\n",
        "\n",
        "y[0] = 10\n",
        "\n",
        "print(x)\n",
        "print(y)"
      ],
      "execution_count": 37,
      "outputs": [
        {
          "output_type": "stream",
          "text": [
            "[0, 1, 2]\n",
            "[0, 1, 2]\n",
            "[10, 1, 2]\n",
            "[10, 1, 2]\n",
            "[0, 1, 2]\n",
            "[10, 1, 2]\n"
          ],
          "name": "stdout"
        }
      ]
    },
    {
      "metadata": {
        "id": "47sb723b9E8g",
        "colab_type": "text"
      },
      "cell_type": "markdown",
      "source": [
        "## tuple object type\n",
        "* tuples are like lists, but there are immutable. \n"
      ]
    },
    {
      "metadata": {
        "id": "x03XRVZ19IL_",
        "colab_type": "code",
        "colab": {
          "base_uri": "https://localhost:8080/",
          "height": 53
        },
        "outputId": "b9b17df8-e97e-4326-9f13-2e9fa8ffef56"
      },
      "cell_type": "code",
      "source": [
        "# make a tuple using () (instead of [] for a list)\n",
        "new_tuple = ('john', 'ella', 'jack')\n",
        "\n",
        "print(new_tuple[1])\n",
        "\n",
        "# can't modify contents\n",
        "# new_tuple[0] = 'bob'\n",
        "# print(new_tuple)\n",
        "\n",
        "# but you can reasign it. \n",
        "new_tuple = ('lasjkdf', 'laskjdfl', 'asdfasd')\n",
        "print(new_tuple)"
      ],
      "execution_count": 45,
      "outputs": [
        {
          "output_type": "stream",
          "text": [
            "ella\n",
            "('lasjkdf', 'laskjdfl', 'asdfasd')\n"
          ],
          "name": "stdout"
        }
      ]
    },
    {
      "metadata": {
        "id": "qyBR8yGJ97HW",
        "colab_type": "text"
      },
      "cell_type": "markdown",
      "source": [
        "## embedded loops"
      ]
    },
    {
      "metadata": {
        "id": "EN7qHAFw9-8L",
        "colab_type": "code",
        "colab": {
          "base_uri": "https://localhost:8080/",
          "height": 551
        },
        "outputId": "b811f770-7ca7-4235-dc61-098e35d269de"
      },
      "cell_type": "code",
      "source": [
        "# use embedded loops to go over multiple lists (or arrays of numbers, whatever)\n",
        "nums = list(range(0,5))\n",
        "names = ['john', 'ella', 'jack']\n",
        "\n",
        "# outer loop\n",
        "for num in nums:\n",
        "  # inner loop \n",
        "  for name in names:\n",
        "    print(name)\n",
        "    print(num)\n",
        "      "
      ],
      "execution_count": 51,
      "outputs": [
        {
          "output_type": "stream",
          "text": [
            "john\n",
            "0\n",
            "ella\n",
            "0\n",
            "jack\n",
            "0\n",
            "john\n",
            "1\n",
            "ella\n",
            "1\n",
            "jack\n",
            "1\n",
            "john\n",
            "2\n",
            "ella\n",
            "2\n",
            "jack\n",
            "2\n",
            "john\n",
            "3\n",
            "ella\n",
            "3\n",
            "jack\n",
            "3\n",
            "john\n",
            "4\n",
            "ella\n",
            "4\n",
            "jack\n",
            "4\n"
          ],
          "name": "stdout"
        }
      ]
    }
  ]
}