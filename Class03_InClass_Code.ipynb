{
  "nbformat": 4,
  "nbformat_minor": 0,
  "metadata": {
    "colab": {
      "name": "Notes for 01302019.ipynb",
      "version": "0.3.2",
      "provenance": [],
      "collapsed_sections": []
    },
    "kernelspec": {
      "name": "python3",
      "display_name": "Python 3"
    }
  },
  "cells": [
    {
      "metadata": {
        "id": "a6j86V3mFi2S",
        "colab_type": "text"
      },
      "cell_type": "markdown",
      "source": [
        "# Input function"
      ]
    },
    {
      "metadata": {
        "id": "iVTmAUiLBWek",
        "colab_type": "code",
        "colab": {}
      },
      "cell_type": "code",
      "source": [
        "name = input('What is your name: ')\n",
        "print('Hello', name)"
      ],
      "execution_count": 0,
      "outputs": []
    },
    {
      "metadata": {
        "id": "3e4CerS_BfFY",
        "colab_type": "code",
        "colab": {}
      },
      "cell_type": "code",
      "source": [
        "# concatenate input \n",
        "name = input(\"What is your name: \")\n",
        "age = input(\"How old are you? \")\n",
        "print(name, \"is\", age)"
      ],
      "execution_count": 0,
      "outputs": []
    },
    {
      "metadata": {
        "id": "VCsEPXqhEEzi",
        "colab_type": "code",
        "colab": {}
      },
      "cell_type": "code",
      "source": [
        "# concatenating longer string using the format method\n",
        "# can be used with strings...including strings defined on the fly. \n",
        "name = input(\"Enter your name: \")\n",
        "day = input(\"Enter the day: \")\n",
        "year = input(\"Enter the year: \")\n",
        "print(name + ' was born on ' + day + ' in ' + year + '.')\n",
        "print(name, ' was born on ', day, ' in ', year, '.', sep='')\n",
        "# this is a string method...\n",
        "print('{} was born on {} in {}.'.format(name, day, year))\n"
      ],
      "execution_count": 0,
      "outputs": []
    },
    {
      "metadata": {
        "id": "VGvzecvzFE-0",
        "colab_type": "code",
        "colab": {}
      },
      "cell_type": "code",
      "source": [
        "x = int(input('Enter x: '))\n",
        "y = int(input('Enter y: '))\n",
        "formattedInput = '{0} - {1} = {2}, {0} / {1} = {3}.'\n",
        "expression = formattedInput.format(x, y, x-y, x/y)\n",
        "print(expression)"
      ],
      "execution_count": 0,
      "outputs": []
    },
    {
      "metadata": {
        "id": "GZyFINcpCFxj",
        "colab_type": "code",
        "colab": {}
      },
      "cell_type": "code",
      "source": [
        "# evaluate the data type entered\n",
        "age = input(\"How old are you? \")\n",
        "if age.isdigit():\n",
        "  print(\"I am\", age, \"years old\")\n",
        "else:\n",
        "  print('user error!')\n",
        "  "
      ],
      "execution_count": 0,
      "outputs": []
    },
    {
      "metadata": {
        "id": "5KDZ1GlBCf8H",
        "colab_type": "code",
        "colab": {}
      },
      "cell_type": "code",
      "source": [
        "# use keyword sep to change default formatting\n",
        "# of the print function...default is a ' '\n",
        "age = input(\"How old are you? \")\n",
        "print('I am', age, 'years old', sep='')"
      ],
      "execution_count": 0,
      "outputs": []
    },
    {
      "metadata": {
        "id": "fmwktMmUC-Tf",
        "colab_type": "code",
        "colab": {}
      },
      "cell_type": "code",
      "source": [
        "# even though we're getting a number printed out in above\n",
        "# examples, its really a string!\n",
        "age1 = input(\"How old are you? \")\n",
        "age2 = input(\"And now how old are you? \")\n",
        "\n",
        "print('Together you have been around for: ', age1+age2)"
      ],
      "execution_count": 0,
      "outputs": []
    },
    {
      "metadata": {
        "id": "eM41eFVXDWF1",
        "colab_type": "code",
        "colab": {}
      },
      "cell_type": "code",
      "source": [
        "# use the int function to cast the str as a number...\n",
        "age1 = int(input(\"How old are you? \"))\n",
        "age2 = int(input(\"And now how old are you? \"))\n",
        "\n",
        "print('Together you have been around for: ', age1+age2)"
      ],
      "execution_count": 0,
      "outputs": []
    },
    {
      "metadata": {
        "id": "3ehMzM9qLJ5S",
        "colab_type": "code",
        "colab": {}
      },
      "cell_type": "code",
      "source": [
        "# fancier use of int and {} notation...\n",
        "x = int(input('Enter x: '))\n",
        "y = int(input('Enter y: '))\n",
        "formattedInput = '{0} - {1} = {2}, {0} / {1} = {3}.'\n",
        "expression = formattedInput.format(x, y, x-y, x/y)\n",
        "print(expression)"
      ],
      "execution_count": 0,
      "outputs": []
    },
    {
      "metadata": {
        "id": "uPdyFy4ZD_Oe",
        "colab_type": "text"
      },
      "cell_type": "markdown",
      "source": [
        "# While loops..."
      ]
    },
    {
      "metadata": {
        "id": "yRYeadNKFCrz",
        "colab_type": "code",
        "colab": {}
      },
      "cell_type": "code",
      "source": [
        "# basic syntax - while something, keep on going...\n",
        "import random\n",
        "\n",
        "x = random.random()\n",
        "print(x)\n",
        "while x < .75:\n",
        "    x = random.random()\n",
        "    print(x)"
      ],
      "execution_count": 0,
      "outputs": []
    },
    {
      "metadata": {
        "id": "PpYw03gYH9Gl",
        "colab_type": "code",
        "colab": {}
      },
      "cell_type": "code",
      "source": [
        "# boolean flag\n",
        "looping = True\n",
        "while looping: \n",
        "  answer = input('Yes[y] or No[n]? ')\n",
        "  if answer =='y':\n",
        "    looping = False\n",
        "  else: \n",
        "    print('continuing to loop')\n",
        "  "
      ],
      "execution_count": 0,
      "outputs": []
    },
    {
      "metadata": {
        "id": "byGDrof3Gw_8",
        "colab_type": "code",
        "colab": {}
      },
      "cell_type": "code",
      "source": [
        "# break statement\n",
        "x = random.random()\n",
        "\n",
        "# as long as x is less than .9999999 then keep going, UNLESS x is in between .86 and .88, then bail out\n",
        "while x < .99999999:\n",
        "    x = random.random()\n",
        "    print(x)\n",
        "    \n",
        "    if x > .86 and x < .88:\n",
        "        print('x is between .86 and .88')\n",
        "        break"
      ],
      "execution_count": 0,
      "outputs": []
    },
    {
      "metadata": {
        "id": "8mh_ZEIEHEOx",
        "colab_type": "code",
        "colab": {}
      },
      "cell_type": "code",
      "source": [
        "# more real life example...at least for experimental design\n",
        "stim_trigger = ''\n",
        "while 1:\n",
        "    print('Start stimulus presentation?[y/n]?')\n",
        "    stim_trigger = input()\n",
        "    if stim_trigger == 'y':\n",
        "        print('starting stimulus')  \n",
        "        break    \n",
        "    elif stim_trigger == 'n':\n",
        "        print('exiting experiment')\n",
        "        break\n",
        "       "
      ],
      "execution_count": 0,
      "outputs": []
    },
    {
      "metadata": {
        "id": "3pRh8FXZHF9s",
        "colab_type": "code",
        "colab": {}
      },
      "cell_type": "code",
      "source": [
        "# alternate form where the 'break' condition is specified in the while statement\n",
        "stim_trigger = ''\n",
        "while stim_trigger != 'y':\n",
        "    print('Start stimulus presentation?[y/n]?')\n",
        "    stim_trigger = input()\n",
        "        \n",
        "print('starting stimulus')"
      ],
      "execution_count": 0,
      "outputs": []
    },
    {
      "metadata": {
        "id": "qM_mlUopjm8h",
        "colab_type": "code",
        "colab": {}
      },
      "cell_type": "code",
      "source": [
        "# Continue statement - in a for loop\n",
        "\n",
        "for letter in 'john':     \n",
        "  if letter == 'h':\n",
        "    continue\n",
        "  print('Current Letter :', letter)"
      ],
      "execution_count": 0,
      "outputs": []
    },
    {
      "metadata": {
        "id": "xSwu5qePkfMV",
        "colab_type": "code",
        "colab": {}
      },
      "cell_type": "code",
      "source": [
        "# continue example in a while loop\n",
        "num = 20                    \n",
        "while num > 0:              \n",
        "  num -= 1\n",
        "  if num == 7 or num == 15:\n",
        "    continue\n",
        "    \n",
        "  # this belongs to the while loop...\n",
        "  print('Current number :', num)"
      ],
      "execution_count": 0,
      "outputs": []
    },
    {
      "metadata": {
        "id": "V7mXBNWEHrrh",
        "colab_type": "code",
        "colab": {}
      },
      "cell_type": "code",
      "source": [
        "# Infinite loops\n",
        "# make sure that you have an escape plan!\n",
        "\n",
        "while True: \n",
        "  print('hi')"
      ],
      "execution_count": 0,
      "outputs": []
    },
    {
      "metadata": {
        "id": "YMAokBgOI1oB",
        "colab_type": "code",
        "colab": {}
      },
      "cell_type": "code",
      "source": [
        "# finding removing all instances of an element in a list\n",
        "# good for recursively deleting user or something from a list. \n",
        "names = ['john', 'ella', 'jack', 'john','john']\n",
        "\n",
        "while 'john' in names:\n",
        "  names.remove('john')\n",
        "\n",
        "print(names)"
      ],
      "execution_count": 0,
      "outputs": []
    },
    {
      "metadata": {
        "colab_type": "code",
        "id": "_ZDxWFKKlHSC",
        "colab": {}
      },
      "cell_type": "code",
      "source": [
        "# filling up a dict...\n",
        "fav_food = {}\n",
        "looping = True\n",
        "\n",
        "while looping:\n",
        "  name = input('What is your name: ')\n",
        "  food = input('What is your favorite food: ')\n",
        "  # assign the key, value pair\n",
        "  fav_food[name] = food\n",
        "  \n",
        "  more = input('Enter more info[y/n]?')\n",
        "  if more == 'n':\n",
        "    looping = False\n",
        "\n",
        "# loop over key, value pairs in the dict. \n",
        "for name, food in fav_food.items():\n",
        "  print('My name is ', name, '. And my favorite food is ', food, sep='')\n"
      ],
      "execution_count": 0,
      "outputs": []
    },
    {
      "metadata": {
        "id": "p5dftp0vlISQ",
        "colab_type": "text"
      },
      "cell_type": "markdown",
      "source": [
        "# try, except, finally blocks\n",
        "\n",
        "* The try block lets you test a block of code to see if it runs (or to see if it has errors)\n",
        "\n",
        "* The except block lets you deal gracefully with an exception thrown in the try block\n",
        "\n",
        "* Can pair a try with an else statement\n",
        "\n",
        "* The finally block lets you execute code no matter what the outcome of the the try- and except blocks."
      ]
    },
    {
      "metadata": {
        "id": "1B4bL3culgDk",
        "colab_type": "code",
        "colab": {}
      },
      "cell_type": "code",
      "source": [
        "print(y)"
      ],
      "execution_count": 0,
      "outputs": []
    },
    {
      "metadata": {
        "id": "-Ifzm0-Rk1tJ",
        "colab_type": "code",
        "colab": {}
      },
      "cell_type": "code",
      "source": [
        "# try...except syntax\n",
        "try:\n",
        "  print(y)\n",
        "except:\n",
        "  print(\"An exception occurred when you tried to print y\")"
      ],
      "execution_count": 0,
      "outputs": []
    },
    {
      "metadata": {
        "id": "l1CgUyMMlnQQ",
        "colab_type": "code",
        "colab": {}
      },
      "cell_type": "code",
      "source": [
        "# can have more than one exception handling block\n",
        "try:\n",
        "  print(y)\n",
        "except NameError:\n",
        "  print(\"Variable y is not defined\")\n",
        "except:\n",
        "  print(\"Wow you really messed up your code!\")"
      ],
      "execution_count": 0,
      "outputs": []
    },
    {
      "metadata": {
        "id": "Do1t3Venl6JL",
        "colab_type": "code",
        "colab": {}
      },
      "cell_type": "code",
      "source": [
        "# can pair a try with an else\n",
        "y = 'hi my name is john'\n",
        "try:\n",
        "  print(y)\n",
        "except NameError:\n",
        "  print(\"Variable y is not defined\")\n",
        "else:\n",
        "  print(\"Nothing went wrong in the try-except blocks\")"
      ],
      "execution_count": 0,
      "outputs": []
    },
    {
      "metadata": {
        "id": "lhV3IsgYmICJ",
        "colab_type": "code",
        "colab": {}
      },
      "cell_type": "code",
      "source": [
        "# use finally - will execute no matter what the outcome\n",
        "yy = 'john'\n",
        "try:\n",
        "  print(yy)\n",
        "except NameError:\n",
        "  print(\"Variable yy is not defined\")\n",
        "finally:\n",
        "  print(\"The try-except blocks are finished\")"
      ],
      "execution_count": 0,
      "outputs": []
    },
    {
      "metadata": {
        "id": "OvAniCcnLM0Q",
        "colab_type": "text"
      },
      "cell_type": "markdown",
      "source": [
        "# In class problems "
      ]
    },
    {
      "metadata": {
        "id": "2Arb1r5rLO3z",
        "colab_type": "code",
        "outputId": "25fb8cd5-e232-49bc-fd4c-4749270b596e",
        "colab": {
          "base_uri": "https://localhost:8080/",
          "height": 70
        }
      },
      "cell_type": "code",
      "source": [
        "# find the greatest common divisor (highest common factor)\n",
        "\n",
        "# # one way, brute force\n",
        "# x = int(input(\"Enter the first number:\"))\n",
        "# y = int(input(\"Enter the second number:\"))\n",
        "\n",
        "# note this takes Y iterations\n",
        "# for i in range(1,y+1):\n",
        "#     if x % i == 0 and y % i == 0:\n",
        "#         gcd = i\n",
        "        \n",
        "# print(gcd)\n",
        "\n",
        "# another way (Euclid's algorithm)\n",
        "x = int(input(\"Enter the first number:\"))\n",
        "y = int(input(\"Enter the second number:\"))\n",
        "\n",
        "# start a while loop, exit when x % y == 0 \n",
        "while y != 0:\n",
        "  x, y = y, x % y\n",
        "\n",
        "print(x)"
      ],
      "execution_count": 0,
      "outputs": [
        {
          "output_type": "stream",
          "text": [
            "Enter the first number:96\n",
            "Enter the second number:8\n",
            "8\n"
          ],
          "name": "stdout"
        }
      ]
    }
  ]
}