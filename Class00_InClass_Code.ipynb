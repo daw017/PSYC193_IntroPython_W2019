{
  "nbformat": 4,
  "nbformat_minor": 0,
  "metadata": {
    "colab": {
      "name": "Class00_InClass_Code.ipynb",
      "version": "0.3.2",
      "provenance": [],
      "collapsed_sections": []
    },
    "kernelspec": {
      "name": "python3",
      "display_name": "Python 3"
    }
  },
  "cells": [
    {
      "metadata": {
        "id": "DrvZWAtMtI2p",
        "colab_type": "code",
        "colab": {
          "base_uri": "https://localhost:8080/",
          "height": 35
        },
        "outputId": "11d81191-c2e0-44ca-dbd7-d1bd1c923456"
      },
      "cell_type": "code",
      "source": [
        "print(\"hello python!\")"
      ],
      "execution_count": 1,
      "outputs": [
        {
          "output_type": "stream",
          "text": [
            "hello python!\n"
          ],
          "name": "stdout"
        }
      ]
    },
    {
      "metadata": {
        "id": "1gFSKgCW1LlP",
        "colab_type": "code",
        "colab": {
          "base_uri": "https://localhost:8080/",
          "height": 35
        },
        "outputId": "2662180a-e08c-4e46-c794-7176b5dc080c"
      },
      "cell_type": "code",
      "source": [
        "message = \"hello python!\"\n",
        "print(message)"
      ],
      "execution_count": 3,
      "outputs": [
        {
          "output_type": "stream",
          "text": [
            "hello python!\n"
          ],
          "name": "stdout"
        }
      ]
    },
    {
      "metadata": {
        "id": "IbzQyP113cGq",
        "colab_type": "code",
        "colab": {
          "base_uri": "https://localhost:8080/",
          "height": 35
        },
        "outputId": "5d52cf72-c939-4e48-b02d-12f86263039f"
      },
      "cell_type": "code",
      "source": [
        "message = \"hello python! we'll be back next weds\"\n",
        "print(message)"
      ],
      "execution_count": 8,
      "outputs": [
        {
          "output_type": "stream",
          "text": [
            "hello python! we'll be back next weds\n"
          ],
          "name": "stdout"
        }
      ]
    },
    {
      "metadata": {
        "id": "218I8I5M38CS",
        "colab_type": "code",
        "colab": {
          "base_uri": "https://localhost:8080/",
          "height": 35
        },
        "outputId": "ea50a114-f328-4481-c97c-cae82f3dd277"
      },
      "cell_type": "code",
      "source": [
        "name = \"joHn serencEs\"\n",
        "name.title()\n"
      ],
      "execution_count": 12,
      "outputs": [
        {
          "output_type": "execute_result",
          "data": {
            "text/plain": [
              "'John Serences'"
            ]
          },
          "metadata": {
            "tags": []
          },
          "execution_count": 12
        }
      ]
    },
    {
      "metadata": {
        "id": "aDUXq4mk40RQ",
        "colab_type": "code",
        "colab": {
          "base_uri": "https://localhost:8080/",
          "height": 52
        },
        "outputId": "cdd58ef0-5b6f-4d82-e6ac-947cb8b14728"
      },
      "cell_type": "code",
      "source": [
        "print(name.lower())\n",
        "print(name.upper())"
      ],
      "execution_count": 15,
      "outputs": [
        {
          "output_type": "stream",
          "text": [
            "john serences\n",
            "JOHN SERENCES\n"
          ],
          "name": "stdout"
        }
      ]
    },
    {
      "metadata": {
        "id": "q520tCV75Mc-",
        "colab_type": "code",
        "colab": {
          "base_uri": "https://localhost:8080/",
          "height": 35
        },
        "outputId": "488700ca-47a8-485b-9ea8-f724f1c8bd96"
      },
      "cell_type": "code",
      "source": [
        "first_name = \"john\"\n",
        "last_name = \"serences\"\n",
        "full_name = first_name + \" \" + last_name + \" was here!\"\n",
        "print(full_name.title())"
      ],
      "execution_count": 24,
      "outputs": [
        {
          "output_type": "stream",
          "text": [
            "John Serences Was Here!\n"
          ],
          "name": "stdout"
        }
      ]
    },
    {
      "metadata": {
        "id": "q7svyiNS6D2Y",
        "colab_type": "code",
        "colab": {
          "base_uri": "https://localhost:8080/",
          "height": 70
        },
        "outputId": "d808637b-f250-4cb6-bec2-0f6dc35b4c74"
      },
      "cell_type": "code",
      "source": [
        "label = \"car type\"\n",
        "car1 = \"toyota\"\n",
        "car2 = \"honda\"\n",
        "print(label + \"\\n\\t\" + car1 + \"\\n\\t\" + car2)"
      ],
      "execution_count": 32,
      "outputs": [
        {
          "output_type": "stream",
          "text": [
            "car type\n",
            "\ttoyota\n",
            "\thonda\n"
          ],
          "name": "stdout"
        }
      ]
    },
    {
      "metadata": {
        "id": "yuJ1ifxs67z9",
        "colab_type": "code",
        "colab": {
          "base_uri": "https://localhost:8080/",
          "height": 87
        },
        "outputId": "c681b2a7-e580-4cba-c66a-7eb0b3faeed3"
      },
      "cell_type": "code",
      "source": [
        "name = \" john \"\n",
        "print(name)\n",
        "print(name.rstrip())\n",
        "print(name.lstrip())\n",
        "print(name.strip())"
      ],
      "execution_count": 37,
      "outputs": [
        {
          "output_type": "stream",
          "text": [
            " john \n",
            " john\n",
            "john \n",
            "john\n"
          ],
          "name": "stdout"
        }
      ]
    },
    {
      "metadata": {
        "id": "FqV7NrjB7bhf",
        "colab_type": "code",
        "colab": {
          "base_uri": "https://localhost:8080/",
          "height": 35
        },
        "outputId": "fde9edad-bc80-4db2-d2d0-01366e608bff"
      },
      "cell_type": "code",
      "source": [
        "# assign a name\n",
        "name = \"jOhn\"\n",
        "\n",
        "# print a name in title format - i.e. first letter of each word in caps\n",
        "# here is more info...\n",
        "print(name.title())"
      ],
      "execution_count": 39,
      "outputs": [
        {
          "output_type": "stream",
          "text": [
            "John\n"
          ],
          "name": "stdout"
        }
      ]
    },
    {
      "metadata": {
        "id": "ZVCwt3lk8M6M",
        "colab_type": "code",
        "colab": {
          "base_uri": "https://localhost:8080/",
          "height": 105
        },
        "outputId": "4648a5bc-6fce-4100-e7e5-8234d346961c"
      },
      "cell_type": "code",
      "source": [
        "# int date types (objects)\n",
        "# integers are WHOLE numbers\n",
        "x = 2\n",
        "y = 3\n",
        "\n",
        "print(x+y)\n",
        "print(y-x)\n",
        "print(x*y)\n",
        "print(x/y) # this returns a float, or a decimal!\n",
        "print(x**y)"
      ],
      "execution_count": 47,
      "outputs": [
        {
          "output_type": "stream",
          "text": [
            "5\n",
            "1\n",
            "6\n",
            "0.6666666666666666\n",
            "8\n"
          ],
          "name": "stdout"
        }
      ]
    },
    {
      "metadata": {
        "id": "aL_ayt3F9rrT",
        "colab_type": "code",
        "colab": {
          "base_uri": "https://localhost:8080/",
          "height": 35
        },
        "outputId": "04165ddb-83c7-45af-ece0-f075cf5be659"
      },
      "cell_type": "code",
      "source": [
        "# Order of operations: PEMDAS\n",
        "print(x + y*x)\n",
        "\n",
        "# better practice is to use () for readability\n",
        "print(x + (y*x))\n",
        "\n",
        "\n"
      ],
      "execution_count": 49,
      "outputs": [
        {
          "output_type": "stream",
          "text": [
            "8\n"
          ],
          "name": "stdout"
        }
      ]
    },
    {
      "metadata": {
        "id": "q1aHy83n-CPX",
        "colab_type": "code",
        "colab": {
          "base_uri": "https://localhost:8080/",
          "height": 70
        },
        "outputId": "08d64bd2-8f6c-4f79-ca48-a3daa7cfc4b5"
      },
      "cell_type": "code",
      "source": [
        "# type casting - first int to string\n",
        "year = 2019\n",
        "print(\"this is the year: \" + str(year))\n",
        "\n",
        "# then string to an int\n",
        "year = \"2019\"\n",
        "print(\"In 10 years it will be: \", int(year) + 10)\n"
      ],
      "execution_count": 56,
      "outputs": [
        {
          "output_type": "stream",
          "text": [
            "this is the year: 2019\n",
            "In 10 years it will be:  2029\n",
            "hi there\n"
          ],
          "name": "stdout"
        }
      ]
    },
    {
      "metadata": {
        "id": "V7KsBZ1L_qIy",
        "colab_type": "code",
        "colab": {
          "base_uri": "https://localhost:8080/",
          "height": 52
        },
        "outputId": "6e7ff086-6872-48a2-bc83-14465b0b8699"
      },
      "cell_type": "code",
      "source": [
        "# introduction to lists\n",
        "names = ['john', 'ella', 'jack', 'anna']\n",
        "\n",
        "# we start counting at 0!!!\n",
        "# so this is the first name\n",
        "print(names[0])\n",
        "\n",
        "# print the last value (or last N values)in the list by \n",
        "# indexing from the end with '-'\n",
        "print(names[-1])"
      ],
      "execution_count": 83,
      "outputs": [
        {
          "output_type": "stream",
          "text": [
            "john\n",
            "anna\n"
          ],
          "name": "stdout"
        }
      ]
    },
    {
      "metadata": {
        "id": "M8RB7fPyAyqz",
        "colab_type": "code",
        "colab": {
          "base_uri": "https://localhost:8080/",
          "height": 237
        },
        "outputId": "de0fefee-e412-435b-f428-2b791f470050"
      },
      "cell_type": "code",
      "source": [
        "\n",
        "# perm sort a list in alpha order\n",
        "names.sort()\n",
        "print(names)\n"
      ],
      "execution_count": 69,
      "outputs": [
        {
          "output_type": "stream",
          "text": [
            "['john', 'ella', 'jack', 'anna']\n"
          ],
          "name": "stdout"
        },
        {
          "output_type": "error",
          "ename": "AttributeError",
          "evalue": "ignored",
          "traceback": [
            "\u001b[0;31m---------------------------------------------------------------------------\u001b[0m",
            "\u001b[0;31mAttributeError\u001b[0m                            Traceback (most recent call last)",
            "\u001b[0;32m<ipython-input-69-8b5d4736d8b4>\u001b[0m in \u001b[0;36m<module>\u001b[0;34m()\u001b[0m\n\u001b[1;32m      1\u001b[0m \u001b[0mprint\u001b[0m\u001b[0;34m(\u001b[0m\u001b[0mnames\u001b[0m\u001b[0;34m)\u001b[0m\u001b[0;34m\u001b[0m\u001b[0;34m\u001b[0m\u001b[0m\n\u001b[1;32m      2\u001b[0m \u001b[0;34m\u001b[0m\u001b[0m\n\u001b[0;32m----> 3\u001b[0;31m \u001b[0msorted_names\u001b[0m \u001b[0;34m=\u001b[0m \u001b[0mnames\u001b[0m\u001b[0;34m.\u001b[0m\u001b[0msorted\u001b[0m\u001b[0;34m(\u001b[0m\u001b[0;34m)\u001b[0m\u001b[0;34m\u001b[0m\u001b[0;34m\u001b[0m\u001b[0m\n\u001b[0m\u001b[1;32m      4\u001b[0m \u001b[0mprint\u001b[0m\u001b[0;34m(\u001b[0m\u001b[0msorted_names\u001b[0m\u001b[0;34m)\u001b[0m\u001b[0;34m\u001b[0m\u001b[0;34m\u001b[0m\u001b[0m\n",
            "\u001b[0;31mAttributeError\u001b[0m: 'list' object has no attribute 'sorted'"
          ]
        }
      ]
    },
    {
      "metadata": {
        "id": "aLIciuPtBoNn",
        "colab_type": "code",
        "colab": {
          "base_uri": "https://localhost:8080/",
          "height": 70
        },
        "outputId": "f4501e12-dbf8-43b3-e1e8-9931a30b8d36"
      },
      "cell_type": "code",
      "source": [
        "# redefine names list\n",
        "names = ['john', 'ella', 'jack', 'anna']\n",
        "\n",
        "# remove items from a list\n",
        "# remove first item...\n",
        "del names[0]\n",
        "print(names)\n",
        "\n",
        "# pop an item - can also pass index to pop() method (e.g. pop(1))\n",
        "last_name = names.pop()\n",
        "print(last_name)\n",
        "\n",
        "list_len = len(names)\n",
        "print(list_len)\n"
      ],
      "execution_count": 86,
      "outputs": [
        {
          "output_type": "stream",
          "text": [
            "['ella', 'jack', 'anna']\n",
            "anna\n",
            "2\n"
          ],
          "name": "stdout"
        }
      ]
    },
    {
      "metadata": {
        "id": "rNobz0ZIDHTl",
        "colab_type": "text"
      },
      "cell_type": "markdown",
      "source": [
        "# start of in class"
      ]
    },
    {
      "metadata": {
        "id": "Plqw4IUuDNCI",
        "colab_type": "code",
        "colab": {}
      },
      "cell_type": "code",
      "source": [
        "# in class exercises here..."
      ],
      "execution_count": 0,
      "outputs": []
    }
  ]
}