{
  "nbformat": 4,
  "nbformat_minor": 0,
  "metadata": {
    "colab": {
      "name": "Class07_02272019_DistributeToClass.ipynb",
      "version": "0.3.2",
      "provenance": [],
      "collapsed_sections": []
    },
    "kernelspec": {
      "name": "python3",
      "display_name": "Python 3"
    }
  },
  "cells": [
    {
      "metadata": {
        "id": "REqq4nBMGVT4",
        "colab_type": "text"
      },
      "cell_type": "markdown",
      "source": [
        "# In class exercises for 02.27.2019 - practice file I/O - Please rename and add your last name and transfer to your class work folder. Do this FIRST please so that its there when I go to look for them. Thanks\n",
        "\n",
        "* The first function in this notebook is written out for you, and instructions for each problem are written in text cells below. Just run the first code block to define the \"take_photo\" function and then you can advance down and start on Question 0. \n",
        "\n",
        "* Don't worry about understanding the code in the photo capture function at the top here, I got it from a tutorial written by Google for the Colab environment (see link below). I'm providing it just so that you quickly use their function to generate and manipulate image files with your built in camera. \n",
        "\n",
        "* **NOTE: I have not shown you in class how to answer all of the questions. This is intentional. One of the most important things in problem solving using code is developing the ability to seek out and use information from online help pages, message boards (like stackoverflow), and from online tutorials. If you leave this class with the knowledge that we've learned thus far in class, AND you can effeciently seek out online sources to solve problems, then you'll be in good shape!\n",
        "\n",
        "[photo capture function from google 'external data' notebook](https://colab.research.google.com/notebooks/io.ipynb#scrollTo=z6e6j8HyQ5hz)"
      ]
    },
    {
      "metadata": {
        "id": "IguMBf87RKEL",
        "colab_type": "code",
        "colab": {}
      },
      "cell_type": "code",
      "source": [
        "from IPython.display import display, Javascript\n",
        "from google.colab.output import eval_js\n",
        "from base64 import b64decode\n",
        "\n",
        "def take_photo(filename='photo.jpg', quality=1.0):\n",
        "  js = Javascript('''\n",
        "    async function takePhoto(quality) {\n",
        "      const div = document.createElement('div');\n",
        "      const capture = document.createElement('button');\n",
        "      capture.textContent = 'Capture';\n",
        "      div.appendChild(capture);\n",
        "\n",
        "      const video = document.createElement('video');\n",
        "      video.style.display = 'block';\n",
        "      const stream = await navigator.mediaDevices.getUserMedia({video: true});\n",
        "\n",
        "      document.body.appendChild(div);\n",
        "      div.appendChild(video);\n",
        "      video.srcObject = stream;\n",
        "      await video.play();\n",
        "\n",
        "      // Resize the output to fit the video element.\n",
        "      google.colab.output.setIframeHeight(document.documentElement.scrollHeight, true);\n",
        "\n",
        "      // Wait for Capture to be clicked.\n",
        "      await new Promise((resolve) => capture.onclick = resolve);\n",
        "\n",
        "      const canvas = document.createElement('canvas');\n",
        "      canvas.width = video.videoWidth;\n",
        "      canvas.height = video.videoHeight;\n",
        "      canvas.getContext('2d').drawImage(video, 0, 0);\n",
        "      stream.getVideoTracks()[0].stop();\n",
        "      div.remove();\n",
        "      return canvas.toDataURL('image/jpg', quality);\n",
        "    }\n",
        "    ''')\n",
        "  display(js)\n",
        "  data = eval_js('takePhoto({})'.format(quality))\n",
        "  binary = b64decode(data.split(',')[1])\n",
        "  with open(filename, 'wb') as f:\n",
        "    f.write(binary)\n",
        "  return filename"
      ],
      "execution_count": 0,
      "outputs": []
    },
    {
      "metadata": {
        "id": "wfDNURDtIkSg",
        "colab_type": "text"
      },
      "cell_type": "markdown",
      "source": [
        "## Question 0: Call the above function to take a picture with your webcam. It is likely (hopefully) that your computer will ask you if its ok if you access the webcam. The code will fail if you deny access...and if it doesn't prompt you for permission then you might want to consider updating your security settings so that it does!\n",
        "\n",
        "* Give the file a simple name like the default \"photo.jpg\" and keep the quality set to the default of 1"
      ]
    },
    {
      "metadata": {
        "id": "lToPi3D_IGj_",
        "colab_type": "code",
        "colab": {}
      },
      "cell_type": "code",
      "source": [
        "# your code here"
      ],
      "execution_count": 0,
      "outputs": []
    },
    {
      "metadata": {
        "id": "-69He958ROCT",
        "colab_type": "text"
      },
      "cell_type": "markdown",
      "source": [
        "## Question 1: Now that you've taken your photo, read the following help pages to figure out how to use matplotlib to read the jpg image that you took from the webcam.\n",
        "\n",
        "* **Part A** To get started, you first need to import a matplotlib module named 'pyplot'. To do this, recall from a few weeks back how to import a module using the \"import module as alias\" syntax. In this case, use the following line at the top of the next code cell:\n",
        "\n",
        "   * import matplotlib.pyplot as plt\n",
        "  \n",
        "* **Part B** Read in your saved image using the methods associated with the newly imported 'plt' object. See the following help page to get started\n",
        "\n",
        "[imread help](https://matplotlib.org/api/_as_gen/matplotlib.pyplot.imread.html)\n",
        "\n",
        "* **Part C** After reading the image, print out the results. So if your image is stored in the variable \"img\" (for example), just type \"img\" and take a look at the output\n",
        "\n",
        "* **Part D** The varialbe that is storing your image (e.g. img) is an instance of the numpy.ndarray class. We'll talk more about this class next week, but for now just know that an ndarray is for storing matrices of data (the 'n' in nd means n-dimensional, or as many dimensions as you want). Recall from last week that instances of a class have methods. Search online for the method associated with an numpy.ndarray that will tell you what shape the data array has. What is it? The shape will tell you the width and height of your image (in pixels), followed by a 3 or a 4. The 3 or the 4 indicates if your image is stored in RGB (red, green, blue) format, or RGBA (red, green, blue, alpha) format, with alpha coding the opacity.\n",
        "\n",
        "   * So basically, the picture that you took of yourself is just a matrix of numbers, with the first two dimensions indicating the rectangular shape, and the 3rd dimension indicating the intensity of the red, green, and blue at each pixel...that's it! And if you change those numbers, you will change the picture.   \n",
        "\n",
        "**Note: if you still need help after reading the imread page, try googling around a bit, for example, you might try searching \"simple plt.imread example jpeg\" or similar to find helpful code snippets**"
      ]
    },
    {
      "metadata": {
        "id": "46k5CbcvRU-R",
        "colab_type": "code",
        "colab": {}
      },
      "cell_type": "code",
      "source": [
        "# your code here"
      ],
      "execution_count": 0,
      "outputs": []
    },
    {
      "metadata": {
        "id": "3XJ0NHcRWYad",
        "colab_type": "text"
      },
      "cell_type": "markdown",
      "source": [
        "## Now figure out how to show, or display, the image inline with your code in your notebook. Check out the help page in the link below\n",
        "\n",
        "[imshow help](https://matplotlib.org/api/_as_gen/matplotlib.pyplot.imshow.html)\n",
        "\n",
        "* **Part A** First just show the image. You'll see that there are (probably) grid lines in the picture, and there are also axis tick labels indicating the X,Y coordinates of the pixels. \n",
        "\n",
        "* **Part B** Start googling to figure out how to turn off the grid lines. You might try something like \"turn off plt gridlines\" for example. \n",
        "\n",
        "* **Part C** Figure out how to turn off the axis labels...now your image should look just like the photo that you took\n",
        "\n",
        "**Note: after you call imshow and the methods to turn off the grid lines and the axis labels also make a call to plt.show(). This may or may not be in the directions that you find online, but it tells python to immediately display the image and it will suppress some unwanted output. You can try it with and without plt.show() to see what I mean. "
      ]
    },
    {
      "metadata": {
        "id": "kVL6AUkLp9WO",
        "colab_type": "code",
        "colab": {}
      },
      "cell_type": "code",
      "source": [
        "# your code here. \n",
        "\n",
        "# use plt.show() when you're ready to display the image\n"
      ],
      "execution_count": 0,
      "outputs": []
    },
    {
      "metadata": {
        "id": "etpXuKTGrkjc",
        "colab_type": "text"
      },
      "cell_type": "markdown",
      "source": [
        "## Question 2: Recall that your image is just a X,Y,4 (or sometimes X,Y,3) matrix of numbers. We'll forget about the alpha channel for a moment (the 4th entry in the 3rd dimension of the RGB image matrix). \n",
        "\n",
        "* Show the image using only the Blue and Green 'channels' (i.e. set the red channel to be all 0's to remove reds from the image). To do this, you'll want to use slicing where you can index into a subset of the matrix and assign all the indexed values to 0. \n",
        "\n",
        "  * Remember the difference between a copy and a view. You already have your image loaded into a variable, so probably a good reason to make sure that you make a copy of it first. Otherwise any changes you make to the RGBA values will also impact your original image and you'll have to reload everything if you want the original back. Recall from week 00 or week 01 that with a list, you could either use the new_list = list[:] notation to make a copy, OR you can call the copy() method like: new_list = list.copy(). With an ndarray, use the later method, so ndarray.copy()\n",
        "\n",
        "  * A few hints about slicing (indexing) into ndarrays are in the code cell below. "
      ]
    },
    {
      "metadata": {
        "id": "Ox7hUG-_tWFx",
        "colab_type": "code",
        "colab": {}
      },
      "cell_type": "code",
      "source": [
        "# HINTS...remember the slicing we did with lists in the early part of the class. \n",
        "# e.g. if you have my_list = list(range(0,10)) and you want to print it all out,\n",
        "# then just go like this:\n",
        "my_list = list(range(0,10))\n",
        "print(my_list[:])\n",
        "\n",
        "# so the : indicates \"give me all the values\"\n",
        "\n",
        "# on the other hand, you can also specify a limited range of indices if you want\n",
        "# so lets say we want the first and the second elements only\n",
        "print(my_list[:2])\n",
        "# or we could do this to make it more explict\n",
        "print(my_list[0:2])\n",
        "\n",
        "# indexing into a ndarray works much the same way...if you want all entries in \n",
        "# a dimension, then use a :, else specify the range (and start counting at 0!!!)\n",
        "\n",
        "# so lets say you had a ndarray that was X,Y,Z - just like your image array - then \n",
        "# to get only the first 5 of the X and Y values but all of the corresponding Z values, you \n",
        "# can go: img[0:5,0:5,:], or to get all X and Y values but only a subset of the \n",
        "# z values: img[:,:,0:1], which, in the case of your X,Y,4 image matrix, would\n",
        "# correspond to all pixels (i.e. all X and Y coordinates) and then only the Red\n",
        "# channel from the RGBA dimension. So your job here is just to set the Red channel\n",
        "# to 0s so that the image only has blues and greens!"
      ],
      "execution_count": 0,
      "outputs": []
    },
    {
      "metadata": {
        "id": "jAoVteG8sUz7",
        "colab_type": "code",
        "colab": {}
      },
      "cell_type": "code",
      "source": [
        "# Your code here!\n",
        "\n",
        "# first copy the image\n",
        "\n",
        "# set all values in the blue and green channels to 0\n",
        "\n",
        "# show the image and turn off the grids/axis labels like before\n"
      ],
      "execution_count": 0,
      "outputs": []
    },
    {
      "metadata": {
        "id": "zn0mP1EhwfzI",
        "colab_type": "text"
      },
      "cell_type": "markdown",
      "source": [
        "## Question 3: Use the camera capture function to take another photo. If you're both ok with it, maybe take a picture of someone else in the class for fun. Otherwise, another picture of you will work fine. \n",
        "\n",
        "* **Make sure that you explicitly give it a different name - maybe just call it photo2.jpg for simplicitly.** \n",
        "\n",
        "* **Part A:** Read in both images and assign them to different variables (e.g. img1 and img2)\n",
        "\n",
        "* **Part B:** Blend the two images together! Recall that we have a X,Y,4 data matrix, where the last dimension corresponds to the RGBA 'channels' (red, green, blue and alpha). To blend the images, you can ignore the last entry (alpha). Normally, the alpha channel would control the opacity, or saturation, or the image, but we're going to blend the images by hand using just the RGB values. This should be relatively easy to ignore the alpha channel because it should be all 1's in both of the images that you took. \n",
        "\n",
        "* I inserted the formula in the code cell below that you'll want to apply to the two image matrices. \n",
        "\n",
        "* Note that you also need to cast, or convert, the results from floating point numbers to integers as imshow will expect integer values from 0:255 for the RGBA values. To do this you can use the NumPy astype method that will create a copy of the object cast as the desired data type. For example, to convert from a matrix of floating point values (y) to a matrix of integers (x), you can go x = y.astype(int). See link below for more\n",
        "\n",
        "[link to NumPy astype](https://docs.scipy.org/doc/numpy/reference/generated/numpy.ndarray.astype.html)\n",
        "\n",
        "* **IMPORTANT** As we'll go over in lots and lots of detail next week, math operations like multiplication, subtraction, and addition on ndarrays operate on ALL elements of the array at once. For example, if you had two X,Y,Z 3D matrices and you subtract one from the other, then the default behavior is to subtract them element-by-element. That is, you subtract the corresponding points in the two matrices (or multiply them, etc). This makes it easy to implement the formula above without looping!"
      ]
    },
    {
      "metadata": {
        "id": "fFTsgqke2b12",
        "colab_type": "code",
        "colab": {}
      },
      "cell_type": "code",
      "source": [
        "# read in the second image\n",
        "\n",
        "\n",
        "# set up the blend factor - 0 will give only the first image, 1 will give just \n",
        "# the second image, .5 will be an even mix, etc. \n",
        "blend_factor = .5\n",
        "\n",
        "# blend the images - this is just computing \n",
        "blend_image = (img * (1.0 - blend_factor) + img2 * blend_factor)\n",
        "\n",
        "# cast the result as an int\n",
        "\n",
        "\n",
        "# show the blended image, without grid lines and axis labels\n",
        "\n"
      ],
      "execution_count": 0,
      "outputs": []
    },
    {
      "metadata": {
        "id": "veHQdt1y5_xq",
        "colab_type": "code",
        "colab": {}
      },
      "cell_type": "code",
      "source": [
        ""
      ],
      "execution_count": 0,
      "outputs": []
    }
  ]
}