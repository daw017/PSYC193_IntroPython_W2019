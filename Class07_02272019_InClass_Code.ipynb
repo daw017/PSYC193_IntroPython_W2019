{
  "nbformat": 4,
  "nbformat_minor": 0,
  "metadata": {
    "colab": {
      "name": "Class07_InClass_Code_FileIO.ipynb",
      "version": "0.3.2",
      "provenance": [],
      "collapsed_sections": []
    },
    "kernelspec": {
      "display_name": "Python 3",
      "language": "python",
      "name": "python3"
    }
  },
  "cells": [
    {
      "metadata": {
        "id": "LBhPz6AzkTax",
        "colab_type": "text"
      },
      "cell_type": "markdown",
      "source": [
        "# File I/O and a few more notes about string formatting, along with some NumPy for binary files and the os module for dir info\n",
        "* How to read/write different file types - .txt, .csv, json\n",
        "\n",
        "[useful link to Python Software Foundation doc](https://docs.python.org/3/tutorial/inputoutput.html)\n",
        "\n",
        "[link to colab specific file I/O info](https://colab.research.google.com/notebooks/io.ipynb#scrollTo=p2E4EKhCWEC5)"
      ]
    },
    {
      "metadata": {
        "id": "rnxc3hvjkTay",
        "colab_type": "text"
      },
      "cell_type": "markdown",
      "source": [
        "## Quick notes on string formatting because we'll use this to generate some data files to read/write\n",
        "* We discussed the str.format() method a few weeks ago\n",
        "* Remember that we pass in the index of the argument that we want to insert into each { } \n",
        "* The second number determines how many places we want to set aside for spacing the output. \n",
        "* Using this convention its easy to make nice, neat output using print or writing to a file"
      ]
    },
    {
      "metadata": {
        "id": "lPw2WTcMkTaz",
        "colab_type": "code",
        "outputId": "6376e1c1-05f4-4a96-e693-adba50c93cb0",
        "colab": {
          "base_uri": "https://localhost:8080/",
          "height": 286
        }
      },
      "cell_type": "code",
      "source": [
        "for x in range(0, 11):\n",
        "  print('{0:2d} {1:4d} {2:5d}'.format(x, 2**x, 3**x))"
      ],
      "execution_count": 0,
      "outputs": [
        {
          "output_type": "stream",
          "text": [
            " 0    1     1\n",
            " 1    2     3\n",
            " 2    4     9\n",
            " 3    8    27\n",
            " 4   16    81\n",
            " 5   32   243\n",
            " 6   64   729\n",
            " 7  128  2187\n",
            " 8  256  6561\n",
            " 9  512 19683\n",
            "10 1024 59049\n"
          ],
          "name": "stdout"
        }
      ]
    },
    {
      "metadata": {
        "id": "CAOUGUylkTa4",
        "colab_type": "text"
      },
      "cell_type": "markdown",
      "source": [
        "## Quick note about file I/O on Google Colab\n",
        "* Usually when we write a new file on a local install of Python (running e.g. Jupyter), the file will write directly to the current working directory\n",
        "* However, on Google Colab it will write to you 'content' folder, which can only be mounted in the virtual machine via a special authentication process\n",
        "* You can do this if you'd like, but I'm not sure I'd suggest it just for the purpose of this class because it will open all your drive files to the google file stream service - its probably fine, but its a decision you might want to investigate a bit more on your own. \n",
        "* If you ever do want to do this, use the code in the cell below - it will generate an authentication link and then you'll be able to mount the content drive and you can access google drive just like a local hard drive. "
      ]
    },
    {
      "metadata": {
        "id": "APWoI21pkTa5",
        "colab_type": "code",
        "colab": {}
      },
      "cell_type": "code",
      "source": [
        "# read the text cell above FIRST before running this code\n",
        "# from google.colab import drive\n",
        "# drive.mount('/content/drive')\n",
        "\n",
        "# %ls #line magic to list out the contents of the current working directory. "
      ],
      "execution_count": 0,
      "outputs": []
    },
    {
      "metadata": {
        "id": "EvKPsgt-kTa8",
        "colab_type": "text"
      },
      "cell_type": "markdown",
      "source": [
        "## Open a file\n",
        "* open() creates a file object, and usually takes two arguments - a filename and the read mode\n",
        "\n",
        "* The first argument is the filename. The second argument describes how the file will be used - read mode ('r'), write mode('w'), read/write mode ('r+') or append mode ('a'). \n",
        "    * read mode 'r' will be assumed if the second arg is omitted\n",
        "    \n",
        "* By default, files are opened in text mode, so you're reading and writing strings to the file. \n",
        "\n",
        "* Binary mode is enabled by appending 'b' to the read/write/append arg (e.g. 'rb' is read binary).\n",
        "\n",
        "* In binary mode, you're reading/writing in units of bytes - this will often be the case for non txt files like image files and so forth"
      ]
    },
    {
      "metadata": {
        "id": "-s60SsOqkTa8",
        "colab_type": "code",
        "colab": {}
      },
      "cell_type": "code",
      "source": [
        "# for writing to a txt file\n",
        "# 'w' will overwrite the file with that name!\n",
        "f = open('test.txt', 'w')\n",
        "f.close()"
      ],
      "execution_count": 0,
      "outputs": []
    },
    {
      "metadata": {
        "id": "1nN07CKGkTa_",
        "colab_type": "code",
        "colab": {}
      },
      "cell_type": "code",
      "source": [
        "# for reading\n",
        "f = open('test.txt', 'r')\n",
        "f.close()"
      ],
      "execution_count": 0,
      "outputs": []
    },
    {
      "metadata": {
        "id": "OiMz5nkJkTbB",
        "colab_type": "code",
        "colab": {}
      },
      "cell_type": "code",
      "source": [
        "# for appending\n",
        "f = open('test.txt', 'a')\n",
        "f.close()"
      ],
      "execution_count": 0,
      "outputs": []
    },
    {
      "metadata": {
        "id": "RV79aC3bkTbF",
        "colab_type": "code",
        "colab": {}
      },
      "cell_type": "code",
      "source": [
        "# for reading or writing\n",
        "f = open('test.txt', 'r+')\n",
        "f.close()"
      ],
      "execution_count": 0,
      "outputs": []
    },
    {
      "metadata": {
        "id": "7gcZlQeu2qXy",
        "colab_type": "code",
        "colab": {}
      },
      "cell_type": "code",
      "source": [
        "# for writing binary file\n",
        "f = open('test', 'wb')\n",
        "f.close()"
      ],
      "execution_count": 0,
      "outputs": []
    },
    {
      "metadata": {
        "id": "V1KaGIumkTbH",
        "colab_type": "text"
      },
      "cell_type": "markdown",
      "source": [
        "### An alternate to mounting the drive locally...this will open a download dialog box that you can use to download any text files that you create if you want to view them"
      ]
    },
    {
      "metadata": {
        "id": "Kf1ryJFJkTbJ",
        "colab_type": "code",
        "colab": {}
      },
      "cell_type": "code",
      "source": [
        "from google.colab import files\n",
        "# of course, thus far its an empty file because all we did was create it and\n",
        "# then close it. \n",
        "files.download('test.txt')"
      ],
      "execution_count": 0,
      "outputs": []
    },
    {
      "metadata": {
        "id": "r8TGGe6PkTbM",
        "colab_type": "text"
      },
      "cell_type": "markdown",
      "source": [
        "### Now lets try it out by actually writing something to the text files. "
      ]
    },
    {
      "metadata": {
        "id": "fdRV_y4NkTbN",
        "colab_type": "code",
        "colab": {}
      },
      "cell_type": "code",
      "source": [
        "f = open('test.txt', 'w')\n",
        "for x in range(0, 11):\n",
        "  # include the \\n newline character - the text file will need that specified\n",
        "  # to properly know what line to put the text on\n",
        "  f.write('{0:2d} {1:4d} {2:5d}\\n'.format(x, 2**x, 3**x))\n",
        "  \n",
        "f.close()\n",
        "\n",
        "# download and take a look!\n",
        "# NOTE - if you're running windows then use WordPad instead of Notepad - Notepad\n",
        "# ignores newline chars\n",
        "files.download('test.txt')"
      ],
      "execution_count": 0,
      "outputs": []
    },
    {
      "metadata": {
        "id": "mfHdOwQY27Ix",
        "colab_type": "code",
        "colab": {}
      },
      "cell_type": "code",
      "source": [
        "# QUESTION: what happens if you don't close it? "
      ],
      "execution_count": 0,
      "outputs": []
    },
    {
      "metadata": {
        "id": "PW0mRJTskTbQ",
        "colab_type": "code",
        "outputId": "49783c5c-ad12-4a4e-e46f-c58498e7aadf",
        "colab": {
          "base_uri": "https://localhost:8080/",
          "height": 95
        }
      },
      "cell_type": "code",
      "source": [
        "# a better way...this will ensure that the file is properly closed when you're \n",
        "# done dealing with it (as many errors are caused by failing to close a file after open)\n",
        "with open('test.txt', 'w') as f:\n",
        "  for x in range(0, 11):\n",
        "    # include the \\n newline character\n",
        "    f.write('{0:2d} {1:4d} {2:5d}\\n'.format(x, 2**x, 3**x))\n",
        "\n",
        "#confirm that its closed\n",
        "print(f.closed)\n",
        "files.download('test.txt')"
      ],
      "execution_count": 0,
      "outputs": [
        {
          "output_type": "stream",
          "text": [
            "True\n"
          ],
          "name": "stdout"
        }
      ]
    },
    {
      "metadata": {
        "id": "-qdQKZEIkTbT",
        "colab_type": "text"
      },
      "cell_type": "markdown",
      "source": [
        "### The 'read' method - f.read(size)\n",
        "* Will read in **size** data from the file, where size is in terms of text or in terms of bytes (for binary read, more on that later)\n",
        "* If you leave this blank, then it will read the entire file. That can be very problematic if the file is REALLY big and explodes your computer. "
      ]
    },
    {
      "metadata": {
        "id": "jGKncqWvkTbT",
        "colab_type": "code",
        "outputId": "61fa7ea2-8c6c-4697-b3df-17ff8ec7c9bc",
        "colab": {
          "base_uri": "https://localhost:8080/",
          "height": 268
        }
      },
      "cell_type": "code",
      "source": [
        "# open our file for reading...\n",
        "with open('test.txt', 'r') as f:\n",
        "  # go ahead and read the entire file...\n",
        "  out = f.read()\n",
        "    \n",
        "# print it out\n",
        "print(out)"
      ],
      "execution_count": 0,
      "outputs": [
        {
          "output_type": "stream",
          "text": [
            " 0    1     1\n",
            " 1    2     3\n",
            " 2    4     9\n",
            " 3    8    27\n",
            " 4   16    81\n",
            " 5   32   243\n",
            " 6   64   729\n",
            " 7  128  2187\n",
            " 8  256  6561\n",
            " 9  512 19683\n",
            "10 1024 59049\n",
            "\n"
          ],
          "name": "stdout"
        }
      ]
    },
    {
      "metadata": {
        "id": "nr-GXpqJkTbX",
        "colab_type": "code",
        "outputId": "d8779160-8493-49e3-f347-bc928e7bd8e3",
        "colab": {
          "base_uri": "https://localhost:8080/",
          "height": 92
        }
      },
      "cell_type": "code",
      "source": [
        "# open our file for reading...just grab 15 elements and print\n",
        "with open('test.txt', 'r') as f:\n",
        "  \n",
        "  out = f.read(15)\n",
        "    \n",
        "# print it out\n",
        "print(out)"
      ],
      "execution_count": 0,
      "outputs": [
        {
          "output_type": "stream",
          "text": [
            " 0    1     1\n",
            " \n"
          ],
          "name": "stdout"
        }
      ]
    },
    {
      "metadata": {
        "id": "T0O_L1S3kTbZ",
        "colab_type": "code",
        "outputId": "a92578b1-93c9-426d-96cc-98f0a851e8c6",
        "colab": {
          "base_uri": "https://localhost:8080/",
          "height": 92
        }
      },
      "cell_type": "code",
      "source": [
        "# a better way to read a line of text\n",
        "# open our file for reading...\n",
        "with open('test.txt', 'r') as f:\n",
        "  # read a line\n",
        "  out = f.readline()\n",
        "    \n",
        "# print it out\n",
        "print(out)"
      ],
      "execution_count": 0,
      "outputs": [
        {
          "output_type": "stream",
          "text": [
            " 0    1     1\n",
            "\n"
          ],
          "name": "stdout"
        }
      ]
    },
    {
      "metadata": {
        "id": "aeUq_2N2kTbc",
        "colab_type": "code",
        "outputId": "437c837b-3c53-4536-ff0a-12d4bc329e40",
        "colab": {
          "base_uri": "https://localhost:8080/",
          "height": 251
        }
      },
      "cell_type": "code",
      "source": [
        "# loop line by line and print out...\n",
        "with open('test.txt', 'r') as f:\n",
        "  # loop over all lines\n",
        "  for line in f:\n",
        "    print(line, end='')"
      ],
      "execution_count": 0,
      "outputs": [
        {
          "output_type": "stream",
          "text": [
            " 0    1     1\n",
            " 1    2     3\n",
            " 2    4     9\n",
            " 3    8    27\n",
            " 4   16    81\n",
            " 5   32   243\n",
            " 6   64   729\n",
            " 7  128  2187\n",
            " 8  256  6561\n",
            " 9  512 19683\n",
            "10 1024 59049\n"
          ],
          "name": "stdout"
        }
      ]
    },
    {
      "metadata": {
        "id": "QMvl3DZZlVY9",
        "colab_type": "text"
      },
      "cell_type": "markdown",
      "source": [
        "### Append mode"
      ]
    },
    {
      "metadata": {
        "id": "kOijxds_lZpj",
        "colab_type": "code",
        "outputId": "42f177af-bd0f-486a-b651-d4d11c054f25",
        "colab": {
          "base_uri": "https://localhost:8080/",
          "height": 75
        }
      },
      "cell_type": "code",
      "source": [
        "# open our test.txt file and append to it - will just pick up where you left off!\n",
        "with open('test.txt', 'a') as f:\n",
        "  for x in range(0, 11):\n",
        "    # include the \\n newline character\n",
        "    f.write('{0:2d} {1:4d} {2:5d}\\n'.format(x, 2*x, 3*x))\n",
        "\n",
        "#confirm that its closed\n",
        "print(f.closed)\n",
        "files.download('test.txt')"
      ],
      "execution_count": 0,
      "outputs": [
        {
          "output_type": "stream",
          "text": [
            "True\n"
          ],
          "name": "stdout"
        }
      ]
    },
    {
      "metadata": {
        "id": "y1MpgvX2lnjz",
        "colab_type": "text"
      },
      "cell_type": "markdown",
      "source": [
        "### Read/write mode...\n",
        "* when you open in r+ mode, you the stream is positioned at the start of the file\n",
        "\n",
        "* when you open in w+ mode, the file is created if it does not exist and otherwise its truncated and the stream starts at the begining"
      ]
    },
    {
      "metadata": {
        "id": "7vbJHDqrlrFZ",
        "colab_type": "code",
        "outputId": "5554eeca-8798-485a-c666-7e56864f3b60",
        "colab": {
          "base_uri": "https://localhost:8080/",
          "height": 110
        }
      },
      "cell_type": "code",
      "source": [
        "# first remove our test file so that we and we don't fill up drive \n",
        "# with a bunch of randomly named files. Use the os module\n",
        "# that contains many handy methods, esp for figuring out directory structure in \n",
        "# this context. \n",
        "import os\n",
        "\n",
        "if os.path.exists(\"test.txt\"):\n",
        "  os.remove(\"test.txt\")\n",
        "else:\n",
        "  print(\"The file does not exist\")\n",
        "\n",
        "# set up an empty list to store the info read from file\n",
        "output = []\n",
        "\n",
        "# open a file for reading and writing\n",
        "with open('test.txt', 'w+') as f:\n",
        "  for x in range(0, 11):\n",
        "    # include the \\n newline character\n",
        "    f.write('{0:2d} {1:4d} {2:5d}\\n'.format(x, 2**x, 3**x))\n",
        "\n",
        "    \n",
        "  # figure out where we are in the file when we're done writing\n",
        "  print(f.tell())  \n",
        "    \n",
        "  # before reading, we need to 'rewind' or seek back to the\n",
        "  # top of the file\n",
        "  f.seek(0)\n",
        "  \n",
        "  # now actually do the reading!\n",
        "  # instead of fread you can use the list function to a return a list of the \n",
        "  # file contents!\n",
        "  output = list(f)\n",
        "  \n",
        "# now the file should be closed...\n",
        "# print out a line...\n",
        "print(output[3])\n",
        "\n",
        "# note the newline character at the end of each line!\n",
        "# \n",
        "# files.download('test.txt')"
      ],
      "execution_count": 0,
      "outputs": [
        {
          "output_type": "stream",
          "text": [
            "154\n",
            " 4   16    81\n",
            "\n"
          ],
          "name": "stdout"
        }
      ]
    },
    {
      "metadata": {
        "id": "k0Qcfs81wEgt",
        "colab_type": "text"
      },
      "cell_type": "markdown",
      "source": [
        "### What happens when you try to write an integer to a text file?"
      ]
    },
    {
      "metadata": {
        "id": "PCraRe4zwJmz",
        "colab_type": "code",
        "colab": {}
      },
      "cell_type": "code",
      "source": [
        "# open a file for writing\n",
        "with open('test.txt', 'w') as f:\n",
        "  for x in range(0, 11):\n",
        "    f.write(x)\n",
        "    "
      ],
      "execution_count": 0,
      "outputs": []
    },
    {
      "metadata": {
        "id": "fTJv1-zdnrxj",
        "colab_type": "code",
        "colab": {}
      },
      "cell_type": "code",
      "source": [
        ""
      ],
      "execution_count": 0,
      "outputs": []
    },
    {
      "metadata": {
        "id": "KGJ5O-WakTbf",
        "colab_type": "text"
      },
      "cell_type": "markdown",
      "source": [
        "## Binary file I/O\n",
        "* So far we've just been dealing with text files where everything is a string (of characters)\n",
        "* Binary files are written in \"machine language\" that is denser and easier to interpret (for the machine, not for you!)"
      ]
    },
    {
      "metadata": {
        "id": "pXYeLAkCvr6q",
        "colab_type": "code",
        "colab": {}
      },
      "cell_type": "code",
      "source": [
        "# open a file for writing binary\n",
        "with open('test', 'wb') as f:\n",
        "  # generate a list of numbers, use bytearray to convert\n",
        "  # numbers over the range 0:255 to binary format\n",
        "  bytes_to_write = bytearray([0,1,2,3,4,5])\n",
        "\n",
        "  # write to file!\n",
        "  f.write(bytes_to_write)\n",
        "\n",
        "# have a look!\n",
        "files.download('test')"
      ],
      "execution_count": 0,
      "outputs": []
    },
    {
      "metadata": {
        "id": "gbEuUuOeyB9b",
        "colab_type": "code",
        "outputId": "b24f8e78-d155-4704-bc38-0d0441138d48",
        "colab": {
          "base_uri": "https://localhost:8080/",
          "height": 75
        }
      },
      "cell_type": "code",
      "source": [
        "# now read it back in\n",
        "with open('test', 'rb') as f:\n",
        "  bytes_read = f.read()\n",
        "\n",
        "# notice that f.read() returns the byte array as a string\n",
        "print(bytes_read)"
      ],
      "execution_count": 0,
      "outputs": [
        {
          "output_type": "stream",
          "text": [
            "b'\\x00\\x01\\x02\\x03\\x04\\x05'\n"
          ],
          "name": "stdout"
        }
      ]
    },
    {
      "metadata": {
        "id": "FjLMLiJOzLYy",
        "colab_type": "code",
        "outputId": "77618077-8e91-4328-f817-41bd9e5bc8ae",
        "colab": {
          "base_uri": "https://localhost:8080/",
          "height": 75
        }
      },
      "cell_type": "code",
      "source": [
        "# can use numpy to make it more usable and read as numbers\n",
        "import numpy as np\n",
        "\n",
        "# now read it back in - note tht your HAVE to know the data type!\n",
        "with open('test', 'rb') as f:\n",
        "  bytes_read = np.fromfile(f, dtype=np.int8)\n",
        " # bytes_read = np.fromfile(f, dtype=np.int16)\n",
        "  \n",
        "print(bytes_read)"
      ],
      "execution_count": 0,
      "outputs": [
        {
          "output_type": "stream",
          "text": [
            "[ 256  770 1284]\n"
          ],
          "name": "stdout"
        }
      ]
    },
    {
      "metadata": {
        "id": "oWivHJ_Zsu8p",
        "colab_type": "text"
      },
      "cell_type": "markdown",
      "source": [
        "## JSON (JavaScript Object Notation) format\n",
        "* straightforward and standardized way of storing and exchanging data files\n",
        "* kind of like a csv or a txt file in nature, but more sophisticated\n",
        "* developed as a way of tranferring JavaScript objects between browsers and servers, but now frequently used for all types of data and languages\n",
        "* takes one of several data formats: \n",
        "  * objects (like dicts)\n",
        "  * arrays (like lists)\n",
        "  * values (string in double quotes or a number)\n",
        "  * strings (sequence of characters)\n",
        "\n",
        "[link to main page](http://json.org/)"
      ]
    },
    {
      "metadata": {
        "id": "JV1qrCszs9bz",
        "colab_type": "code",
        "outputId": "439520e7-b95e-4c0f-d9c3-9bfab2b4f504",
        "colab": {
          "base_uri": "https://localhost:8080/",
          "height": 95
        }
      },
      "cell_type": "code",
      "source": [
        "# import json module\n",
        "import json\n",
        "\n",
        "# build a dictionary with a bunch of different data types, including a sub list\n",
        "# of dictionaries\n",
        "user_profile = {\n",
        "  \"name\": \"John\",\n",
        "  \"age\": 30,\n",
        "  \"kids\": True,\n",
        "  \"pets\": None,\n",
        "  \"bicycles\": [\n",
        "    {\"type\": \"Road\", \"Make\": \"Giant\"},\n",
        "    {\"type\": \"Mountain\", \"Make\": \"Cannondale\"}\n",
        "  ]\n",
        "}\n",
        "\n",
        "print(json.dumps(user_profile))"
      ],
      "execution_count": 0,
      "outputs": [
        {
          "output_type": "stream",
          "text": [
            "{\"name\": \"John\", \"age\": 30, \"kids\": true, \"pets\": null, \"bicycles\": [{\"type\": \"Road\", \"Make\": \"Giant\"}, {\"type\": \"Mountain\", \"Make\": \"Cannondale\"}]}\n"
          ],
          "name": "stdout"
        }
      ]
    },
    {
      "metadata": {
        "id": "icaIIsvavBOO",
        "colab_type": "text"
      },
      "cell_type": "markdown",
      "source": [
        "### Now write a .json file to disk - very similar to file creating/writing that we did above"
      ]
    },
    {
      "metadata": {
        "id": "BWciYSC1vADu",
        "colab_type": "code",
        "colab": {}
      },
      "cell_type": "code",
      "source": [
        "import json\n",
        "with open('test.json', 'w') as outfile:\n",
        "  json.dump(user_profile, outfile)\n",
        "  \n",
        "files.download('test.json')"
      ],
      "execution_count": 0,
      "outputs": []
    },
    {
      "metadata": {
        "id": "WCUk8w-DAPPA",
        "colab_type": "code",
        "outputId": "07e4944c-1525-45ec-fa9c-b43de833acb8",
        "colab": {
          "base_uri": "https://localhost:8080/",
          "height": 75
        }
      },
      "cell_type": "code",
      "source": [
        "with open('test.json', 'r') as outfile:\n",
        "  x = json.load(outfile)\n",
        "  \n",
        "# and you get back a dictionary!\n",
        "x['bicycles'][1]['Make']"
      ],
      "execution_count": 0,
      "outputs": [
        {
          "output_type": "execute_result",
          "data": {
            "text/plain": [
              "'Cannondale'"
            ]
          },
          "metadata": {
            "tags": []
          },
          "execution_count": 46
        }
      ]
    }
  ]
}