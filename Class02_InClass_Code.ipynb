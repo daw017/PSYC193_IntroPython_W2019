{
  "nbformat": 4,
  "nbformat_minor": 0,
  "metadata": {
    "colab": {
      "name": "Class02_InClass_Code.ipynb",
      "version": "0.3.2",
      "provenance": [],
      "collapsed_sections": []
    },
    "kernelspec": {
      "name": "python3",
      "display_name": "Python 3"
    }
  },
  "cells": [
    {
      "metadata": {
        "id": "wjIw59oaqiQK",
        "colab_type": "text"
      },
      "cell_type": "markdown",
      "source": [
        "# If ...elif...else and dictionaries. "
      ]
    },
    {
      "metadata": {
        "id": "1adHKqMyIBRj",
        "colab_type": "code",
        "colab": {}
      },
      "cell_type": "code",
      "source": [
        ""
      ],
      "execution_count": 0,
      "outputs": []
    },
    {
      "metadata": {
        "id": "93lksJVBqsNv",
        "colab_type": "text"
      },
      "cell_type": "markdown",
      "source": [
        "## boolean logic and test for =="
      ]
    },
    {
      "metadata": {
        "id": "suowzL7Nxn6x",
        "colab_type": "code",
        "outputId": "1fad3cf4-8d52-4a83-b987-ce684bbaeceb",
        "colab": {
          "base_uri": "https://localhost:8080/",
          "height": 35
        }
      },
      "cell_type": "code",
      "source": [
        "0 == 0 "
      ],
      "execution_count": 0,
      "outputs": [
        {
          "output_type": "execute_result",
          "data": {
            "text/plain": [
              "True"
            ]
          },
          "metadata": {
            "tags": []
          },
          "execution_count": 1
        }
      ]
    },
    {
      "metadata": {
        "id": "iatYt_FKx4hl",
        "colab_type": "code",
        "outputId": "6c9163c2-f511-407b-b685-6108511cebfa",
        "colab": {
          "base_uri": "https://localhost:8080/",
          "height": 35
        }
      },
      "cell_type": "code",
      "source": [
        "0 == 1"
      ],
      "execution_count": 0,
      "outputs": [
        {
          "output_type": "execute_result",
          "data": {
            "text/plain": [
              "False"
            ]
          },
          "metadata": {
            "tags": []
          },
          "execution_count": 2
        }
      ]
    },
    {
      "metadata": {
        "id": "n6BV7Sjsx8Kf",
        "colab_type": "code",
        "outputId": "8fe4b5c8-ba3e-41a2-dd09-a75c96009406",
        "colab": {
          "base_uri": "https://localhost:8080/",
          "height": 35
        }
      },
      "cell_type": "code",
      "source": [
        "'in' == 'In'"
      ],
      "execution_count": 0,
      "outputs": [
        {
          "output_type": "execute_result",
          "data": {
            "text/plain": [
              "False"
            ]
          },
          "metadata": {
            "tags": []
          },
          "execution_count": 4
        }
      ]
    },
    {
      "metadata": {
        "id": "1Wa3DRJ-yGat",
        "colab_type": "code",
        "outputId": "43773f84-3fb9-49a5-a665-2faae5d7154e",
        "colab": {
          "base_uri": "https://localhost:8080/",
          "height": 52
        }
      },
      "cell_type": "code",
      "source": [
        "n = 'in'\n",
        "x = 'In'\n",
        "\n",
        "print(n==x)\n",
        "print(n.upper()==x.upper())"
      ],
      "execution_count": 0,
      "outputs": [
        {
          "output_type": "stream",
          "text": [
            "False\n",
            "True\n"
          ],
          "name": "stdout"
        }
      ]
    },
    {
      "metadata": {
        "id": "PSexZn_vynN0",
        "colab_type": "code",
        "outputId": "a8e9bd4e-2f68-4e95-c8b0-f54533587067",
        "colab": {
          "base_uri": "https://localhost:8080/",
          "height": 35
        }
      },
      "cell_type": "code",
      "source": [
        "# not operator\n",
        "n != x"
      ],
      "execution_count": 0,
      "outputs": [
        {
          "output_type": "execute_result",
          "data": {
            "text/plain": [
              "False"
            ]
          },
          "metadata": {
            "tags": []
          },
          "execution_count": 12
        }
      ]
    },
    {
      "metadata": {
        "id": "2auGTwH9y4Ke",
        "colab_type": "code",
        "outputId": "74b5314f-dfc9-40fa-a942-1776390342c5",
        "colab": {
          "base_uri": "https://localhost:8080/",
          "height": 35
        }
      },
      "cell_type": "code",
      "source": [
        "x = 5\n",
        "y = 6\n",
        "z = 5\n",
        "w = 8\n",
        "\n",
        "x < y"
      ],
      "execution_count": 0,
      "outputs": [
        {
          "output_type": "execute_result",
          "data": {
            "text/plain": [
              "True"
            ]
          },
          "metadata": {
            "tags": []
          },
          "execution_count": 15
        }
      ]
    },
    {
      "metadata": {
        "id": "gxCdCaQWzE0Q",
        "colab_type": "code",
        "outputId": "a294b483-cc15-4034-f402-b8b7a2d9f421",
        "colab": {
          "base_uri": "https://localhost:8080/",
          "height": 35
        }
      },
      "cell_type": "code",
      "source": [
        "# logical and - will return true if and only if all statement eval to true\n",
        "x = 5\n",
        "y = 6\n",
        "z = 5\n",
        "w = 8\n",
        "\n",
        "x < y and z < w and y < w"
      ],
      "execution_count": 0,
      "outputs": [
        {
          "output_type": "execute_result",
          "data": {
            "text/plain": [
              "True"
            ]
          },
          "metadata": {
            "tags": []
          },
          "execution_count": 18
        }
      ]
    },
    {
      "metadata": {
        "id": "_idxCgqKzg-x",
        "colab_type": "code",
        "outputId": "e0136ad7-4a9d-4332-90e0-174b4f76c4c4",
        "colab": {
          "base_uri": "https://localhost:8080/",
          "height": 35
        }
      },
      "cell_type": "code",
      "source": [
        "# logical or - will return true if ANY statement evals to true\n",
        "x = 5\n",
        "y = 6\n",
        "z = 5\n",
        "w = 8\n",
        "\n",
        "print(x > y or z < w)\n",
        "\n",
        "# can string together and and or operators...\n",
        "((x < y) and (z > w)) or (y < w)\n",
        "\n"
      ],
      "execution_count": 0,
      "outputs": [
        {
          "output_type": "execute_result",
          "data": {
            "text/plain": [
              "True"
            ]
          },
          "metadata": {
            "tags": []
          },
          "execution_count": 21
        }
      ]
    },
    {
      "metadata": {
        "id": "hJ-scQN24Fn6",
        "colab_type": "code",
        "colab": {}
      },
      "cell_type": "code",
      "source": [
        ""
      ],
      "execution_count": 0,
      "outputs": []
    },
    {
      "metadata": {
        "id": "DOnKXCh_0fNo",
        "colab_type": "code",
        "outputId": "ef3252fd-1bad-426a-d7c0-8c0be32a72e0",
        "colab": {
          "base_uri": "https://localhost:8080/",
          "height": 52
        }
      },
      "cell_type": "code",
      "source": [
        "# in and not methods\n",
        "names = ['john', 'ella', 'jack']\n",
        "print('john' in names)\n",
        "'brittany' not in names"
      ],
      "execution_count": 0,
      "outputs": [
        {
          "output_type": "stream",
          "text": [
            "True\n"
          ],
          "name": "stdout"
        },
        {
          "output_type": "execute_result",
          "data": {
            "text/plain": [
              "True"
            ]
          },
          "metadata": {
            "tags": []
          },
          "execution_count": 27
        }
      ]
    },
    {
      "metadata": {
        "id": "3mlzOwV01C3G",
        "colab_type": "code",
        "outputId": "2a3a369d-d650-464b-e181-78d7db7fbec4",
        "colab": {
          "base_uri": "https://localhost:8080/",
          "height": 123
        }
      },
      "cell_type": "code",
      "source": [
        "# set up a if...else statement\n",
        "names = ['john', 'ella', 'jack', 'vy']\n",
        "\n",
        "# set up the if...else\n",
        "# can combine with and and or as well\n",
        "for n in names:\n",
        "  if n == 'ella':\n",
        "    print('hi')\n",
        "  elif n == 'jack':\n",
        "    print('hello there') \n",
        "  elif n == 'john':\n",
        "    print('see you')\n",
        "  else: \n",
        "    print('something unexpected happened')\n",
        "    print('another line of stuff')   "
      ],
      "execution_count": 0,
      "outputs": [
        {
          "output_type": "stream",
          "text": [
            "see you\n",
            "hi\n",
            "hello there\n",
            "something unexpected happened\n",
            "another line of stuff\n",
            "and something else\n"
          ],
          "name": "stdout"
        }
      ]
    },
    {
      "metadata": {
        "id": "ZdZQX8iS4IIN",
        "colab_type": "code",
        "outputId": "87af3fee-8c36-4fa9-fca8-645f70794c32",
        "colab": {
          "base_uri": "https://localhost:8080/",
          "height": 210
        }
      },
      "cell_type": "code",
      "source": [
        "# boolean logic. \n",
        "adding = True\n",
        "\n",
        "num = list(range(0,5))\n",
        "\n",
        "out = 0\n",
        "\n",
        "for n in num:\n",
        "  print(n)\n",
        "  if adding == True:\n",
        "    out += 10\n",
        "    print('add 10')\n",
        "    adding = False\n",
        "    \n",
        "  elif adding == False:\n",
        "    out *= 13\n",
        "    print('mult 13')\n",
        "    adding = True\n",
        "    \n",
        "print(out)\n",
        "    "
      ],
      "execution_count": 0,
      "outputs": [
        {
          "output_type": "stream",
          "text": [
            "0\n",
            "mult 13\n",
            "1\n",
            "add 10\n",
            "2\n",
            "mult 13\n",
            "3\n",
            "add 10\n",
            "4\n",
            "mult 13\n",
            "1820\n"
          ],
          "name": "stdout"
        }
      ]
    },
    {
      "metadata": {
        "id": "v4TWbJon6Imm",
        "colab_type": "text"
      },
      "cell_type": "markdown",
      "source": [
        "## Dictionaries"
      ]
    },
    {
      "metadata": {
        "id": "FShCeCJN6N4L",
        "colab_type": "code",
        "outputId": "00fa1a46-bd07-4432-f8e6-bd587547a348",
        "colab": {
          "base_uri": "https://localhost:8080/",
          "height": 35
        }
      },
      "cell_type": "code",
      "source": [
        "# list...index by position\n",
        "names = ['john', 'ella']\n",
        "names[1]"
      ],
      "execution_count": 0,
      "outputs": [
        {
          "output_type": "execute_result",
          "data": {
            "text/plain": [
              "'ella'"
            ]
          },
          "metadata": {
            "tags": []
          },
          "execution_count": 39
        }
      ]
    },
    {
      "metadata": {
        "id": "D0Y5DvRe6qm8",
        "colab_type": "code",
        "outputId": "41d31e26-8f8c-4a44-aa60-db6537eadbd1",
        "colab": {
          "base_uri": "https://localhost:8080/",
          "height": 35
        }
      },
      "cell_type": "code",
      "source": [
        "# dict index by key\n",
        "# store ages of people\n",
        "d = {'john':41, 'ella':11}\n",
        "\n",
        "# index by key is ok\n",
        "d['john']\n",
        "\n",
        "# index by position won't work\n",
        "# d[0]"
      ],
      "execution_count": 0,
      "outputs": [
        {
          "output_type": "execute_result",
          "data": {
            "text/plain": [
              "41"
            ]
          },
          "metadata": {
            "tags": []
          },
          "execution_count": 48
        }
      ]
    },
    {
      "metadata": {
        "id": "xF52nc567vQg",
        "colab_type": "code",
        "outputId": "c20d156c-c5cd-45d0-b42b-20066af57684",
        "colab": {
          "base_uri": "https://localhost:8080/",
          "height": 35
        }
      },
      "cell_type": "code",
      "source": [
        "list_of_tuples = [('SD', 'padres'), ('SF', 'Giants')]\n",
        "d = dict(list_of_tuples)\n",
        "print(d['SF'])\n"
      ],
      "execution_count": 0,
      "outputs": [
        {
          "output_type": "stream",
          "text": [
            "Giants\n"
          ],
          "name": "stdout"
        }
      ]
    },
    {
      "metadata": {
        "id": "PnJT3esV8K1v",
        "colab_type": "code",
        "outputId": "0290408c-5c53-414a-bde4-11bc67b2d51e",
        "colab": {
          "base_uri": "https://localhost:8080/",
          "height": 35
        }
      },
      "cell_type": "code",
      "source": [
        "d = dict(SD='padres', SF='giants')\n",
        "d['SD']"
      ],
      "execution_count": 0,
      "outputs": [
        {
          "output_type": "execute_result",
          "data": {
            "text/plain": [
              "'padres'"
            ]
          },
          "metadata": {
            "tags": []
          },
          "execution_count": 51
        }
      ]
    },
    {
      "metadata": {
        "id": "ivlwmQ4_8g_7",
        "colab_type": "code",
        "outputId": "c58bc342-2d58-45d5-af71-b6c8d302806e",
        "colab": {
          "base_uri": "https://localhost:8080/",
          "height": 52
        }
      },
      "cell_type": "code",
      "source": [
        "# methods associated with dicts. \n",
        "print(d)\n",
        "d.clear()\n",
        "print(d)"
      ],
      "execution_count": 0,
      "outputs": [
        {
          "output_type": "stream",
          "text": [
            "{'SD': 'padres', 'SF': 'giants'}\n",
            "{}\n"
          ],
          "name": "stdout"
        }
      ]
    },
    {
      "metadata": {
        "id": "88aTVSJb8vsu",
        "colab_type": "code",
        "outputId": "d9183ce3-b66c-4148-8884-923a43959288",
        "colab": {
          "base_uri": "https://localhost:8080/",
          "height": 35
        }
      },
      "cell_type": "code",
      "source": [
        "d = dict(SD='padres', SF='giants')\n",
        "\n",
        "# this will throw an error\n",
        "# d['boston']\n",
        "\n",
        "# this will return None and keep going. \n",
        "print(d.get('boston'))\n"
      ],
      "execution_count": 0,
      "outputs": [
        {
          "output_type": "stream",
          "text": [
            "None\n"
          ],
          "name": "stdout"
        }
      ]
    },
    {
      "metadata": {
        "id": "Xh-a4mWs9Lcn",
        "colab_type": "code",
        "outputId": "de283f63-d559-4430-ce24-6957afc977a3",
        "colab": {
          "base_uri": "https://localhost:8080/",
          "height": 52
        }
      },
      "cell_type": "code",
      "source": [
        "print(d.keys())\n",
        "print(d.values())"
      ],
      "execution_count": 0,
      "outputs": [
        {
          "output_type": "stream",
          "text": [
            "dict_keys(['SD', 'SF'])\n",
            "dict_values(['padres', 'giants'])\n"
          ],
          "name": "stdout"
        }
      ]
    },
    {
      "metadata": {
        "id": "044K2VNf9Tbt",
        "colab_type": "code",
        "outputId": "1770e458-beee-414e-f095-bafcdda7e92a",
        "colab": {
          "base_uri": "https://localhost:8080/",
          "height": 35
        }
      },
      "cell_type": "code",
      "source": [
        "# this will return a list of tuples with the first \n",
        "# entry in each pair being the key and the second the value\n",
        "print(d.items())"
      ],
      "execution_count": 0,
      "outputs": [
        {
          "output_type": "stream",
          "text": [
            "dict_items([('SD', 'padres'), ('SF', 'giants')])\n"
          ],
          "name": "stdout"
        }
      ]
    },
    {
      "metadata": {
        "id": "-TANk9tC9rVN",
        "colab_type": "code",
        "colab": {}
      },
      "cell_type": "code",
      "source": [
        "# pop, popitem..."
      ],
      "execution_count": 0,
      "outputs": []
    },
    {
      "metadata": {
        "id": "pX8R67GF9xcn",
        "colab_type": "code",
        "outputId": "4b6da505-79a8-4e9d-afaf-9457c93c7025",
        "colab": {
          "base_uri": "https://localhost:8080/",
          "height": 35
        }
      },
      "cell_type": "code",
      "source": [
        "# update will merge two dicts. \n",
        "d1 = {'john':41, 'ella':11}\n",
        "d2 = {'jack':9, 'vy':25, 'john':28}\n",
        "\n",
        "# update or merge the two...\n",
        "d1.update(d2)\n",
        "print(d1)\n"
      ],
      "execution_count": 0,
      "outputs": [
        {
          "output_type": "stream",
          "text": [
            "{'john': 28, 'ella': 11, 'jack': 9, 'vy': 25}\n"
          ],
          "name": "stdout"
        }
      ]
    },
    {
      "metadata": {
        "id": "RJI9MW12-T4Q",
        "colab_type": "code",
        "outputId": "c8f843f2-bdc8-4512-eac5-ef7cf75add6e",
        "colab": {
          "base_uri": "https://localhost:8080/",
          "height": 52
        }
      },
      "cell_type": "code",
      "source": [
        "uc_enrollment = {'UCSD':28127, 'Irvine':27331, 'Merced':6815}\n",
        "\n",
        "schools = uc_enrollment.keys()\n",
        "print(schools)\n",
        "\n",
        "num_students = uc_enrollment.values()\n",
        "print(num_students)"
      ],
      "execution_count": 0,
      "outputs": [
        {
          "output_type": "stream",
          "text": [
            "dict_keys(['UCSD', 'Irvine', 'Merced'])\n",
            "dict_values([28127, 27331, 6815])\n"
          ],
          "name": "stdout"
        }
      ]
    },
    {
      "metadata": {
        "id": "-WpmGahm-8XO",
        "colab_type": "code",
        "outputId": "a8df23da-124e-4e9d-f5ed-67a2d621ea9b",
        "colab": {
          "base_uri": "https://localhost:8080/",
          "height": 175
        }
      },
      "cell_type": "code",
      "source": [
        "# for loops with dictionaries. \n",
        "for n in num_students:\n",
        "  print(n)\n",
        "  \n",
        "# use items to loop over key/value pairs. \n",
        "for s, n in uc_enrollment.items():\n",
        "  print(s)\n",
        "  print(n)\n",
        "  \n",
        "  "
      ],
      "execution_count": 0,
      "outputs": [
        {
          "output_type": "stream",
          "text": [
            "28127\n",
            "27331\n",
            "6815\n",
            "UCSD\n",
            "28127\n",
            "Irvine\n",
            "27331\n",
            "Merced\n",
            "6815\n"
          ],
          "name": "stdout"
        }
      ]
    },
    {
      "metadata": {
        "id": "6c_WkpOn_erg",
        "colab_type": "code",
        "outputId": "1d0f8ba2-61fb-4be0-9542-bb53c2cfdc91",
        "colab": {
          "base_uri": "https://localhost:8080/",
          "height": 52
        }
      },
      "cell_type": "code",
      "source": [
        "# more advanced use of lists (or could do variants with dicts as well)\n",
        "a_simple_list = list(range(0,5))\n",
        "\n",
        "a_weird_list = [2018, 'UCSD', a_simple_list, sum, [1,1,2,3,5,8]]\n",
        "\n",
        "print(a_weird_list)  \n",
        "\n",
        "print('The next item in the F sequence is: ', a_weird_list[3](a_weird_list[4][-2:]))\n"
      ],
      "execution_count": 0,
      "outputs": [
        {
          "output_type": "stream",
          "text": [
            "[2018, 'UCSD', [0, 1, 2, 3, 4], <built-in function sum>, [1, 1, 2, 3, 5, 8]]\n",
            "The next item in the F sequence is:  13\n"
          ],
          "name": "stdout"
        }
      ]
    },
    {
      "metadata": {
        "id": "4x3kGSlyI76O",
        "colab_type": "text"
      },
      "cell_type": "markdown",
      "source": [
        "# In class exercises"
      ]
    },
    {
      "metadata": {
        "id": "Mk7auCf3JwoQ",
        "colab_type": "code",
        "outputId": "ee6c70e7-1a07-4091-e450-c404b88359df",
        "colab": {
          "base_uri": "https://localhost:8080/",
          "height": 35
        }
      },
      "cell_type": "code",
      "source": [
        "num = {'n1': [2,3,1], 'n2':[5,1,2], 'n3':[3,2,4]}\n",
        "\n",
        "new_nums = {k: sorted(v) for k,v in num.items()}\n",
        "\n",
        "print(new_nums)"
      ],
      "execution_count": 0,
      "outputs": [
        {
          "output_type": "stream",
          "text": [
            "{'n1': [1, 2, 3], 'n2': [1, 2, 5], 'n3': [2, 3, 4]}\n"
          ],
          "name": "stdout"
        }
      ]
    }
  ]
}