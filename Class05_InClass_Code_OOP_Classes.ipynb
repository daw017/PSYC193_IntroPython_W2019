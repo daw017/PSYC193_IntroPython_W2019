{
  "nbformat": 4,
  "nbformat_minor": 0,
  "metadata": {
    "colab": {
      "name": "Class05_InClass_Code_OOP_Classes.ipynb",
      "version": "0.3.2",
      "provenance": [],
      "collapsed_sections": []
    },
    "kernelspec": {
      "display_name": "Python 3",
      "language": "python",
      "name": "python3"
    }
  },
  "cells": [
    {
      "metadata": {
        "id": "aFFSIC3LOnnb",
        "colab_type": "text"
      },
      "cell_type": "markdown",
      "source": [
        "# Classes\n",
        "* So far, we've focused on procedure-oriented programming...i.e. we've used specially designed functions to solve specific problems. \n",
        "* In contrast, object oriented programming (OOP) combines data and functions into an object\n",
        "* A **class** creates a new data type and **objects** are **instances** of the class\n",
        "    * example: variables that store strings are instances or objects of the class str \n",
        "    * Objects can store data using ordinary variables that belong to the object. \n",
        "    * Variables that belong to an object or class are referred to as **fields**. \n",
        "    * Objects can access functions that belong to a class, these are called **methods**. \n",
        "    * Using the **fields** and **methods** terms is important to clarify that we're talking about a class instead of functions and variables. \n",
        "    * The **fields** and **methods** are called the attributes of the class\n",
        "    * The call to **class** is called a **constructor** because invoking it will create a new **instance** of the object type"
      ]
    },
    {
      "metadata": {
        "id": "U2OL6M86Onnf",
        "colab_type": "code",
        "colab": {
          "base_uri": "https://localhost:8080/",
          "height": 34
        },
        "outputId": "3e45271e-13d6-4854-fa66-ab2d50535502"
      },
      "cell_type": "code",
      "source": [
        "# super simple class\n",
        "class Houses:\n",
        "    # don't do anything in this simple example\n",
        "    pass  \n",
        "\n",
        "# create (instantiate) an instance\n",
        "h = Houses()\n",
        "\n",
        "# print\n",
        "print(h)"
      ],
      "execution_count": 26,
      "outputs": [
        {
          "output_type": "stream",
          "text": [
            "<__main__.Houses object at 0x7f1fce66c1d0>\n"
          ],
          "name": "stdout"
        }
      ]
    },
    {
      "metadata": {
        "id": "sbBEZ8gdPF5C",
        "colab_type": "text"
      },
      "cell_type": "markdown",
      "source": [
        "* In the simple example above, we constructed a class that just has an empty code block.\n",
        "* The next few lines create an object or an **instance** of this class and then print it out to confirm that we made an instance of the class Houses"
      ]
    },
    {
      "metadata": {
        "id": "TXC_VCCBOnnn",
        "colab_type": "text"
      },
      "cell_type": "markdown",
      "source": [
        "## Class methods are similar to ordinary functions, except that they have an extra name that needs to be the first param of the parameter list\n",
        "* The weird thing is that you don't have to assign a value for this parameter when you call the method. Instead, the interpreter will provide it because this parameter refers to the object itself\n",
        "    * By convention, we call this parameter **self** and can be used to set the initial state of fields in the class (exp later) \n",
        "\n",
        "* To create a new class we use the class statement then give a name to the class. \n",
        "* After that, we can write statements that will make up the functionality of the class. \n"
      ]
    },
    {
      "metadata": {
        "id": "-bYbjugnOnnp",
        "colab_type": "text"
      },
      "cell_type": "markdown",
      "source": [
        "## The self param\n",
        "* Say you define a class (e.g. Houses), and then make an instance (or object) of this class (h)\n",
        "* When you call a method (e.g. h.method()), then python will interpret that method call as Houses.method()"
      ]
    },
    {
      "metadata": {
        "id": "ac4dnQBxOnnr",
        "colab_type": "code",
        "colab": {
          "base_uri": "https://localhost:8080/",
          "height": 34
        },
        "outputId": "b1c2963d-0d24-46c2-af6c-0492bcb84e26"
      },
      "cell_type": "code",
      "source": [
        "# continue simple example but include a method\n",
        "class Houses:\n",
        "    \n",
        "    def display_price(self, cost):\n",
        "        \"\"\"Print the cost of the house\"\"\"\n",
        "        # don't forget the docstring, just like with a function!\n",
        "        print('Your house is worth: $', str(cost), sep='')    \n",
        "        \n",
        "# note that creating a new instance (object) doesn't require\n",
        "# any input arguments\n",
        "h = Houses()\n",
        "h.display_price(4040430)"
      ],
      "execution_count": 28,
      "outputs": [
        {
          "output_type": "stream",
          "text": [
            "Your house is worth: $4040430\n"
          ],
          "name": "stdout"
        }
      ]
    },
    {
      "metadata": {
        "id": "j52LlRZ1Onnw",
        "colab_type": "code",
        "colab": {
          "base_uri": "https://localhost:8080/",
          "height": 34
        },
        "outputId": "0169a28e-f456-42f6-fde0-7994a04f274f"
      },
      "cell_type": "code",
      "source": [
        "# to demonstrate the handling of self...\n",
        "Houses().display_price(100000)"
      ],
      "execution_count": 29,
      "outputs": [
        {
          "output_type": "stream",
          "text": [
            "Your house is worth: $100000\n"
          ],
          "name": "stdout"
        }
      ]
    },
    {
      "metadata": {
        "id": "l2311BOQOnn0",
        "colab_type": "text"
      },
      "cell_type": "markdown",
      "source": [
        "## Using the __init__ method\n",
        "* The __init__ method is a special method in python classes. \n",
        "* The __init__ method is executed whenever an object of a class is instantiated. \n",
        "* The method is used to initialize object variables, or variables that are specific to each **instance** of an object.\n",
        "* Note that __init__ is not a constructor, as it takes self as the first param (i.e. it gets called after the object is already created)"
      ]
    },
    {
      "metadata": {
        "id": "_TdnK42wPoWE",
        "colab_type": "text"
      },
      "cell_type": "markdown",
      "source": [
        "### In the next examples we can see how the 'self' param is used to initialize variables that will be accessible to each instance of the object\n",
        "\n",
        "---\n",
        "\n"
      ]
    },
    {
      "metadata": {
        "id": "YkNHr3v0Onn1",
        "colab_type": "code",
        "colab": {}
      },
      "cell_type": "code",
      "source": [
        "class Sharks:\n",
        "    def __init__(self, species):\n",
        "        # when you initialize an instance, you set this field\n",
        "        self.species = species\n",
        "\n",
        "    def print_species(self):\n",
        "        print('Hello, I am a ' + self.species + ' shark!')"
      ],
      "execution_count": 0,
      "outputs": []
    },
    {
      "metadata": {
        "id": "Ok7ZggcsPkLI",
        "colab_type": "code",
        "colab": {
          "base_uri": "https://localhost:8080/",
          "height": 52
        },
        "outputId": "aa3f2d87-a910-44ea-8e41-5325b99eca51"
      },
      "cell_type": "code",
      "source": [
        "p = Sharks('Great White')\n",
        "p.print_species()\n",
        "\n",
        "p.species"
      ],
      "execution_count": 34,
      "outputs": [
        {
          "output_type": "stream",
          "text": [
            "Hello, I am a Great White shark!\n"
          ],
          "name": "stdout"
        },
        {
          "output_type": "execute_result",
          "data": {
            "text/plain": [
              "'Great White'"
            ]
          },
          "metadata": {
            "tags": []
          },
          "execution_count": 34
        }
      ]
    },
    {
      "metadata": {
        "id": "jWLjhTbrOnn5",
        "colab_type": "code",
        "colab": {}
      },
      "cell_type": "code",
      "source": [
        "# another example\n",
        "class TwoPnts(object):\n",
        "    # initialize via default values of 0\n",
        "    def __init__(self, x = 0, y = 0):\n",
        "        # so when you initialize an instance, you're giving the instance\n",
        "        # two variables to access or to work with - x and y\n",
        "        self.x = x\n",
        "        self.y = y\n",
        "\n",
        "    def dis(self):\n",
        "        \"\"\"Euclidean distance, sqrt of x**2 + y**2\"\"\"\n",
        "        return (self.x**2 + self.y**2) ** 0.5"
      ],
      "execution_count": 0,
      "outputs": []
    },
    {
      "metadata": {
        "id": "cEdLAqAJOnoD",
        "colab_type": "text"
      },
      "cell_type": "markdown",
      "source": [
        "### Note that you don't pass in new values for object variables like you would to a function, instead you change the fields directly\n"
      ]
    },
    {
      "metadata": {
        "id": "V09wyoXCOnn9",
        "colab_type": "code",
        "colab": {
          "base_uri": "https://localhost:8080/",
          "height": 34
        },
        "outputId": "ee5cbfda-80c4-4e4b-fc1e-55e12f082263"
      },
      "cell_type": "code",
      "source": [
        "d = TwoPnts(x=10,y=5)\n",
        "d.dis()"
      ],
      "execution_count": 37,
      "outputs": [
        {
          "output_type": "execute_result",
          "data": {
            "text/plain": [
              "11.180339887498949"
            ]
          },
          "metadata": {
            "tags": []
          },
          "execution_count": 37
        }
      ]
    },
    {
      "metadata": {
        "id": "Z9L2IxPdOnoG",
        "colab_type": "code",
        "colab": {
          "base_uri": "https://localhost:8080/",
          "height": 34
        },
        "outputId": "a8d12cd1-21cd-463c-be9a-33eeb2c3ffef"
      },
      "cell_type": "code",
      "source": [
        "# YES, beacuse they are variables accessed by the 'd' instance of the object\n",
        "d.x = 25\n",
        "d.y = 10\n",
        "d.dis()"
      ],
      "execution_count": 39,
      "outputs": [
        {
          "output_type": "execute_result",
          "data": {
            "text/plain": [
              "26.92582403567252"
            ]
          },
          "metadata": {
            "tags": []
          },
          "execution_count": 39
        }
      ]
    },
    {
      "metadata": {
        "id": "pgxdoE-vQHu1",
        "colab_type": "text"
      },
      "cell_type": "markdown",
      "source": [
        "### can add more methods\n"
      ]
    },
    {
      "metadata": {
        "id": "SKJBVPfFOnoK",
        "colab_type": "code",
        "colab": {}
      },
      "cell_type": "code",
      "source": [
        "class TwoPnts(object):\n",
        "    \n",
        "    # initialize via default values of 0\n",
        "    def __init__(self, x = 0, y = 0):\n",
        "        # assign the variables that will be accessible to instances of \n",
        "        # this class\n",
        "        self.x = x\n",
        "        self.y = y\n",
        "\n",
        "    def dis(self):\n",
        "        \"\"\"Euclidean distance, sqrt of x**2 + y**2\"\"\"\n",
        "        return (self.x**2 + self.y**2) ** 0.5\n",
        "    \n",
        "    def diff(self):\n",
        "        \"\"\"Difference between x and y\"\"\"\n",
        "        return (self.x - self.y)\n",
        "    \n",
        "    def prod(self):\n",
        "        \"\"\"Product of x and y\"\"\"\n",
        "        return (self.x * self.y)\n",
        "     "
      ],
      "execution_count": 0,
      "outputs": []
    },
    {
      "metadata": {
        "id": "oj114xf9OnoP",
        "colab_type": "code",
        "colab": {}
      },
      "cell_type": "code",
      "source": [
        "d = TwoPnts(x=10,y=5)\n",
        "d.prod?"
      ],
      "execution_count": 0,
      "outputs": []
    },
    {
      "metadata": {
        "id": "FOpudUraOnoS",
        "colab_type": "text"
      },
      "cell_type": "markdown",
      "source": [
        "## Class And Object (or instance) Variables\n",
        "\n",
        "* In addition to methods in a class, you can also manipulate data or **fields**\n",
        "* There are two types of fields that are valid within a class, and they differ in the scope of their name space\n",
        "* Class variables are owned by the class and are **shared** and can be accessed by all instances of the class\n",
        "* Object variables are owned by **individual** instances such that each instance has a **copy**. As a result, object variables share a common name across instances, but they are not related!"
      ]
    },
    {
      "metadata": {
        "id": "z0paWZPoOnoT",
        "colab_type": "text"
      },
      "cell_type": "markdown",
      "source": [
        "* class variables. "
      ]
    },
    {
      "metadata": {
        "id": "uOwdP8ZkOnoU",
        "colab_type": "code",
        "colab": {}
      },
      "cell_type": "code",
      "source": [
        "# define the class\n",
        "class Houses:\n",
        "    \n",
        "    # set up some default values...can override...\n",
        "    # note: these are called class variables! they\n",
        "    # can be seen by any method in the class\n",
        "    street = \"\"\n",
        "    build = \"single\"\n",
        "    color = \"\"\n",
        "    value = 1000000.00\n",
        "    \n",
        "    def description(self):\n",
        "        # note this is yet another way to generate a formatted string.\n",
        "        # don't have to do type-casting as that is handled by the specification\n",
        "        # of expected object type using %s, %d, %f notation. \n",
        "        desc_str = \"The house is on %s street, and is a %s %s house worth $%.2f.\" % (self.street, self.build, self.color, self.value)\n",
        "        return desc_str"
      ],
      "execution_count": 0,
      "outputs": []
    },
    {
      "metadata": {
        "id": "xjT52c7COnoZ",
        "colab_type": "code",
        "colab": {
          "base_uri": "https://localhost:8080/",
          "height": 52
        },
        "outputId": "64cc7c05-644c-4c46-8981-f24690e213a2"
      },
      "cell_type": "code",
      "source": [
        "# set up the class and populate\n",
        "# NOTE you can overwrite class variables\n",
        "h = Houses()\n",
        "h.street = \"sutter\"\n",
        "h.color = \"blue\"\n",
        "h.build = \"two_story\"\n",
        "h.value = 600000.00\n",
        "\n",
        "# test code\n",
        "print(h.description())\n",
        "\n",
        "# why do the defaults get overwritten? "
      ],
      "execution_count": 50,
      "outputs": [
        {
          "output_type": "stream",
          "text": [
            "The house is on sutter street, and is a two_story blue house worth $600000.00.\n"
          ],
          "name": "stdout"
        },
        {
          "output_type": "execute_result",
          "data": {
            "text/plain": [
              "'The house is on  street, and is a single  house worth $1000000.00.'"
            ]
          },
          "metadata": {
            "tags": []
          },
          "execution_count": 50
        }
      ]
    },
    {
      "metadata": {
        "id": "QhOnhQ-mOnoc",
        "colab_type": "text"
      },
      "cell_type": "markdown",
      "source": [
        "## Modifying class variables"
      ]
    },
    {
      "metadata": {
        "id": "gD-EQ1djOnof",
        "colab_type": "code",
        "colab": {}
      },
      "cell_type": "code",
      "source": [
        "class ScaryMonster:\n",
        "    \"\"\"Create a scary monster class, and make it have a name.\"\"\"\n",
        "        \n",
        "    # this is a class level variable\n",
        "    # all other methods in the class can see this, \n",
        "    # so we can use it to keep track of the number\n",
        "    # of cities that they destroy. \n",
        "    # NOTE!!! this is just initialized once when the \n",
        "    # class is constructed! not every time a new instance is created\n",
        "    cities_destroyed = 0\n",
        "    \n",
        "    def __init__(self, name):\n",
        "        \"\"\"Initialize the class and give monster a name.\"\"\"\n",
        "        # this is an instance (object) variable\n",
        "        self.name = name\n",
        "        # recall the format method from a few classes ago. \n",
        "        print(\"Assigning monster's name:\", self.name)\n",
        "        \n",
        "    def destroy_city(self):\n",
        "        \"\"\"Have the monster destroy a city.\"\"\"\n",
        "        print(\"City destroyed\")\n",
        "        # increment counter\n",
        "        ScaryMonster.cities_destroyed += 1\n",
        "        print(\"You've destroyed\", ScaryMonster.cities_destroyed)\n"
      ],
      "execution_count": 0,
      "outputs": []
    },
    {
      "metadata": {
        "id": "eklQ3DOIOnol",
        "colab_type": "code",
        "colab": {
          "base_uri": "https://localhost:8080/",
          "height": 69
        },
        "outputId": "c0876e49-fdf5-4074-ccca-4d222469ea43"
      },
      "cell_type": "code",
      "source": [
        "sm = ScaryMonster('bob')\n",
        "sm.destroy_city()"
      ],
      "execution_count": 53,
      "outputs": [
        {
          "output_type": "stream",
          "text": [
            "Assigning monster's name: bob\n",
            "City destroyed\n",
            "You've destroyed 1\n"
          ],
          "name": "stdout"
        }
      ]
    },
    {
      "metadata": {
        "id": "IqxuakUXOnoo",
        "colab_type": "code",
        "colab": {
          "base_uri": "https://localhost:8080/",
          "height": 104
        },
        "outputId": "fcacfece-83f4-4810-e777-e7db5e2a7a0e"
      },
      "cell_type": "code",
      "source": [
        "# note that the counter will not reset even though we're creating a new instance!\n",
        "# that only happens on class construction\n",
        "sm2 = ScaryMonster('john')\n",
        "sm2.destroy_city()\n",
        "print(sm2.name)\n",
        "print(sm.name)"
      ],
      "execution_count": 57,
      "outputs": [
        {
          "output_type": "stream",
          "text": [
            "Assigning monster's name: john\n",
            "City destroyed\n",
            "You've destroyed 4\n",
            "john\n",
            "bob\n"
          ],
          "name": "stdout"
        }
      ]
    },
    {
      "metadata": {
        "id": "MkwsqwUBOnot",
        "colab_type": "text"
      },
      "cell_type": "markdown",
      "source": [
        "### Important! note that if you create another instance of the class, the class variables are shared by (accessible to) ALL instances"
      ]
    },
    {
      "metadata": {
        "id": "e3gZ_iTVOnou",
        "colab_type": "code",
        "colab": {}
      },
      "cell_type": "code",
      "source": [
        "# make a new monster, and note that the cities_destroyed field is \n",
        "# updated from what it was based on the first sm, so here, we \n",
        "# have a new monster named john but the city count keeps on going. \n",
        "sm2 = ScaryMonster('john')\n",
        "sm2.destroy_city()\n",
        "\n",
        "# unique object or instance level fields\n",
        "print(sm.name, sm2.name)\n",
        "\n",
        "# but shared class level fields\n",
        "print(sm.cities_destroyed, sm2.cities_destroyed)\n"
      ],
      "execution_count": 0,
      "outputs": []
    },
    {
      "metadata": {
        "id": "plHQnCR8Onoy",
        "colab_type": "text"
      },
      "cell_type": "markdown",
      "source": [
        "## Inheritance\n",
        "\n",
        "* Inheritance allows you to reuse code, and can be thought of as a hierarchical implementation of a class and sub-class (or an object type and an object sub-type)\n",
        "\n",
        "* Example - all the students at UCSD are enrolled and have a major. However, some students are CA residents and others are not, and each sub-type of student pays different fees \n",
        "\n",
        "* You could just create two classes, one for CA residents and one for non-residents. However, since there are some shared attributes, you can save some overhead by creating a **base class** or a **super class** that defines a student, and then two **derived classes** or **sub classes** that define each sub-type of student \n",
        "    * Each sub class can then have specific fields, in addition to the shared fields \n",
        "\n",
        "* Notes\n",
        "    * If you go back later and change any of the functionality in the base class it will automatically propogate to the sub classes\n",
        "    * Conversely, you can make specific changes to one sub type and it won't affect the other sub types "
      ]
    },
    {
      "metadata": {
        "id": "55vUfHe0Ono0",
        "colab_type": "code",
        "colab": {}
      },
      "cell_type": "code",
      "source": [
        "class Student:\n",
        "    '''Class to represent attributes common to all students.'''\n",
        "    \n",
        "    def __init__(self, name, major):\n",
        "      # initialize object with name, major\n",
        "        self.name = name\n",
        "        self.major = major\n",
        "\n",
        "    def info(self):\n",
        "        '''Write out general details of a student'''\n",
        "        # note again the new (old) manner for printing out formatted text. \n",
        "        print(\"Student Name: %s, Student Major: %s\" % (self.name, self.major))\n",
        "        \n",
        "    def blah(self):\n",
        "        print('whatever')\n",
        "        \n"
      ],
      "execution_count": 0,
      "outputs": []
    },
    {
      "metadata": {
        "id": "aH6ouDHXOno4",
        "colab_type": "text"
      },
      "cell_type": "markdown",
      "source": [
        "### Now define a sub class for resident students\n",
        "* In the sub class init, you have to call the constructor of the base class...its like a double init!\n",
        "* When you create an instance of the sub-class Resident, it will construct the base class and then the sub class"
      ]
    },
    {
      "metadata": {
        "id": "5loWm1hZOno5",
        "colab_type": "code",
        "colab": {}
      },
      "cell_type": "code",
      "source": [
        "# NOTE that the sub class Resident takes the base class Student\n",
        "class Resident(Student):\n",
        "    '''Class to represent a CA resident student.'''\n",
        "    \n",
        "    # sub class init function\n",
        "    def __init__(self, name, major, tuition):\n",
        "        # first line here will init using base class, then sub class info\n",
        "        Student.__init__(self, name, major)\n",
        "        self.tuition = tuition\n",
        "\n",
        "    def info(self):\n",
        "        # REUSE THE EXISTING base class function \"info\"\n",
        "        Student.info(self)\n",
        "        # then also print out the resident specific field\n",
        "        print(\"Tuition: %s\" % self.tuition)"
      ],
      "execution_count": 0,
      "outputs": []
    },
    {
      "metadata": {
        "id": "So6ke2BMOno9",
        "colab_type": "code",
        "colab": {}
      },
      "cell_type": "code",
      "source": [
        "class NonResident(Student):\n",
        "    '''Class to represent a non-CA resident student.'''\n",
        "    def __init__(self, name, major, non_res_fee):\n",
        "        Student.__init__(self, name, major)\n",
        "        self.non_res_fee = non_res_fee\n",
        "\n",
        "    def info(self):\n",
        "        # can reuse this from base class\n",
        "        Student.info(self)\n",
        "        print(\"Non-res fees: %s\" % self.non_res_fee)"
      ],
      "execution_count": 0,
      "outputs": []
    },
    {
      "metadata": {
        "id": "vRdq9LnLOnpD",
        "colab_type": "text"
      },
      "cell_type": "markdown",
      "source": [
        "### Create an instance of each sub class"
      ]
    },
    {
      "metadata": {
        "id": "vKtA9gyUOnpD",
        "colab_type": "code",
        "colab": {
          "base_uri": "https://localhost:8080/",
          "height": 86
        },
        "outputId": "cc961383-722e-44b0-e9b2-965294ba7905"
      },
      "cell_type": "code",
      "source": [
        "r = Resident('Sunyoung', 24, 13900)\n",
        "nr = NonResident('John', 25, 575000)\n",
        "\n",
        "# you can then use common methods like info that were defined in the\n",
        "# base class\n",
        "r.info()\n",
        "\n",
        "\n",
        "# # insert blank line...\n",
        "# print()\n",
        "\n",
        "# # then nr info\n",
        "nr.info()\n",
        "\n",
        "# # and also access sub class specific fields \n",
        "# nr.non_res_fee"
      ],
      "execution_count": 65,
      "outputs": [
        {
          "output_type": "stream",
          "text": [
            "Student Name: Sunyoung, Student Major: 24\n",
            "Tuition: 13900\n",
            "Student Name: John, Student Major: 25\n",
            "Non-res fees: 575000\n"
          ],
          "name": "stdout"
        }
      ]
    },
    {
      "metadata": {
        "id": "sBuzGzpuOnpI",
        "colab_type": "text"
      },
      "cell_type": "markdown",
      "source": [
        "### Note that we have an \"info\" method in the sub class and in the base class. In our case, the sub class info method makes use of the base class info method and then adds some more details. However, if we didn't have the sub class method info, then the interpreter would use the info method in the base class instead. The interpreter will first look in the sub class and if no matching method is found, it will start looking in the base class"
      ]
    }
  ]
}