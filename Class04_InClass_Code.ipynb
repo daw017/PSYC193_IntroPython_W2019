{
  "nbformat": 4,
  "nbformat_minor": 0,
  "metadata": {
    "colab": {
      "name": "Class04_InClass_Code.ipynb",
      "version": "0.3.2",
      "provenance": [],
      "collapsed_sections": []
    },
    "kernelspec": {
      "name": "python3",
      "display_name": "Python 3"
    }
  },
  "cells": [
    {
      "metadata": {
        "id": "zE2OFXrF8kmh",
        "colab_type": "text"
      },
      "cell_type": "markdown",
      "source": [
        "# functions"
      ]
    },
    {
      "metadata": {
        "id": "rbKqEXMbE5Hz",
        "colab_type": "code",
        "colab": {}
      },
      "cell_type": "code",
      "source": [
        "# basic structure of a function - in practice, ALWAYS write out notes \n",
        "# in the header so that you and others will know what the purpose of the function\n",
        "# is and you'll know how to call it (i.e. what the input/output is)\n",
        "def print_msg(msg):\n",
        "  \"\"\"\n",
        "  Written: js 0213209\n",
        "  Version update: ella 02112021\n",
        "  \n",
        "  input:\n",
        "    msg = msg you want to print\n",
        "    \n",
        "  output: \n",
        "    none, will print message\n",
        "  \"\"\"\n",
        "  \n",
        "  print(msg)"
      ],
      "execution_count": 0,
      "outputs": []
    },
    {
      "metadata": {
        "id": "-vNdpx6WFrMD",
        "colab_type": "code",
        "colab": {}
      },
      "cell_type": "code",
      "source": [
        "print_msg?\n",
        "print_msg('hi there world')\n"
      ],
      "execution_count": 0,
      "outputs": []
    },
    {
      "metadata": {
        "id": "BK4djc4tGDVw",
        "colab_type": "code",
        "colab": {}
      },
      "cell_type": "code",
      "source": [
        "# slightly more complex..\n",
        "def print_msg(msg, postfix):\n",
        "  # print the msg and append the postfix\n",
        "  print(msg, postfix)"
      ],
      "execution_count": 0,
      "outputs": []
    },
    {
      "metadata": {
        "id": "mVTYE-YWGRVx",
        "colab_type": "code",
        "outputId": "e0146a53-5266-4952-ac62-0a9ea47c2886",
        "colab": {
          "base_uri": "https://localhost:8080/",
          "height": 35
        }
      },
      "cell_type": "code",
      "source": [
        "print_msg(postfix='John',msg='My name is')"
      ],
      "execution_count": 0,
      "outputs": [
        {
          "output_type": "stream",
          "text": [
            "My name is John\n"
          ],
          "name": "stdout"
        }
      ]
    },
    {
      "metadata": {
        "id": "BN1pisB7Gx7Y",
        "colab_type": "code",
        "colab": {}
      },
      "cell_type": "code",
      "source": [
        "def add_two(x):\n",
        "  x = x+2\n",
        "  return x\n"
      ],
      "execution_count": 0,
      "outputs": []
    },
    {
      "metadata": {
        "id": "je3lf5HQG-kg",
        "colab_type": "code",
        "outputId": "c8c240de-f84c-47b2-9f97-79f601b8e537",
        "colab": {
          "base_uri": "https://localhost:8080/",
          "height": 35
        }
      },
      "cell_type": "code",
      "source": [
        "out = add_two(10)\n",
        "print(out)"
      ],
      "execution_count": 0,
      "outputs": [
        {
          "output_type": "stream",
          "text": [
            "12\n"
          ],
          "name": "stdout"
        }
      ]
    },
    {
      "metadata": {
        "id": "nhr_slEQHIBI",
        "colab_type": "text"
      },
      "cell_type": "markdown",
      "source": [
        "## modify lists (or variables in general) in a function"
      ]
    },
    {
      "metadata": {
        "id": "wUfNInMeHQdb",
        "colab_type": "code",
        "colab": {}
      },
      "cell_type": "code",
      "source": [
        "def sort_list(my_list):\n",
        "  my_list.sort()"
      ],
      "execution_count": 0,
      "outputs": []
    },
    {
      "metadata": {
        "id": "2gY8Q7hFHYXL",
        "colab_type": "code",
        "outputId": "c17df231-e257-4099-fcff-41d58c58e9d9",
        "colab": {
          "base_uri": "https://localhost:8080/",
          "height": 35
        }
      },
      "cell_type": "code",
      "source": [
        "names = ['john', 'jack', 'ella']\n",
        "sort_list(names)\n",
        "print(names)\n"
      ],
      "execution_count": 0,
      "outputs": [
        {
          "output_type": "stream",
          "text": [
            "['ella', 'jack', 'john']\n"
          ],
          "name": "stdout"
        }
      ]
    },
    {
      "metadata": {
        "id": "ofsUJR6HH58l",
        "colab_type": "code",
        "colab": {}
      },
      "cell_type": "code",
      "source": [
        "def new_sorted_list(my_list):\n",
        "  sort_list = sorted(my_list)\n",
        "  return sort_list"
      ],
      "execution_count": 0,
      "outputs": []
    },
    {
      "metadata": {
        "id": "ZCq5Ze2AIJkM",
        "colab_type": "code",
        "outputId": "39ab979d-e786-4172-8956-d7721aa2115f",
        "colab": {
          "base_uri": "https://localhost:8080/",
          "height": 52
        }
      },
      "cell_type": "code",
      "source": [
        "names = ['john', 'jack', 'ella']\n",
        "new_names = new_sorted_list(names)\n",
        "print(names)\n",
        "print(new_names)"
      ],
      "execution_count": 0,
      "outputs": [
        {
          "output_type": "stream",
          "text": [
            "['john', 'jack', 'ella']\n",
            "['ella', 'jack', 'john']\n"
          ],
          "name": "stdout"
        }
      ]
    },
    {
      "metadata": {
        "id": "f6Xzg0rEIZoV",
        "colab_type": "code",
        "colab": {}
      },
      "cell_type": "code",
      "source": [
        "# define varialbe in a function, that will stay local to the function (so here z isn't visible to anything outside of \n",
        "# this function - it will be created when function called and destroyed when function exits)\n",
        "def sub_val(x,y):\n",
        "  z = x-y\n",
        "  return z"
      ],
      "execution_count": 0,
      "outputs": []
    },
    {
      "metadata": {
        "id": "Ty-K7q-qIozL",
        "colab_type": "code",
        "outputId": "7688a194-1516-401d-969a-2ccd8f7aebc4",
        "colab": {
          "base_uri": "https://localhost:8080/",
          "height": 219
        }
      },
      "cell_type": "code",
      "source": [
        "print(sub_val(10,2))"
      ],
      "execution_count": 0,
      "outputs": [
        {
          "output_type": "stream",
          "text": [
            "8\n"
          ],
          "name": "stdout"
        },
        {
          "output_type": "error",
          "ename": "NameError",
          "evalue": "ignored",
          "traceback": [
            "\u001b[0;31m---------------------------------------------------------------------------\u001b[0m",
            "\u001b[0;31mNameError\u001b[0m                                 Traceback (most recent call last)",
            "\u001b[0;32m<ipython-input-25-2f3792bdcfc1>\u001b[0m in \u001b[0;36m<module>\u001b[0;34m()\u001b[0m\n\u001b[1;32m      1\u001b[0m \u001b[0mprint\u001b[0m\u001b[0;34m(\u001b[0m\u001b[0msub_val\u001b[0m\u001b[0;34m(\u001b[0m\u001b[0;36m10\u001b[0m\u001b[0;34m,\u001b[0m\u001b[0;36m2\u001b[0m\u001b[0;34m)\u001b[0m\u001b[0;34m)\u001b[0m\u001b[0;34m\u001b[0m\u001b[0;34m\u001b[0m\u001b[0m\n\u001b[1;32m      2\u001b[0m \u001b[0;34m\u001b[0m\u001b[0m\n\u001b[0;32m----> 3\u001b[0;31m \u001b[0mprint\u001b[0m\u001b[0;34m(\u001b[0m\u001b[0mz\u001b[0m\u001b[0;34m)\u001b[0m\u001b[0;34m\u001b[0m\u001b[0;34m\u001b[0m\u001b[0m\n\u001b[0m",
            "\u001b[0;31mNameError\u001b[0m: name 'z' is not defined"
          ]
        }
      ]
    },
    {
      "metadata": {
        "id": "EJPeCF_cI_RO",
        "colab_type": "code",
        "outputId": "c4f3ada1-435e-4bdb-991b-41ea6d55a653",
        "colab": {
          "base_uri": "https://localhost:8080/",
          "height": 140
        }
      },
      "cell_type": "code",
      "source": [
        "# *args for a variable number of arguments (non-keyworded, variable-length argument list)\n",
        "def make_zoo(n_animals, *animals):\n",
        "  print('You want', str(n_animals))\n",
        "  print('They are:')\n",
        "  for a in animals:\n",
        "    print(a)\n",
        "  \n",
        "make_zoo(5, 'tiger', 'monkey', 'bear', 'ele', 'horse')"
      ],
      "execution_count": 0,
      "outputs": [
        {
          "output_type": "stream",
          "text": [
            "You want 5\n",
            "They are:\n",
            "tiger\n",
            "monkey\n",
            "bear\n",
            "ele\n",
            "horse\n"
          ],
          "name": "stdout"
        }
      ]
    },
    {
      "metadata": {
        "id": "L22D7cEHJw8z",
        "colab_type": "code",
        "outputId": "8abd9f79-5856-47c5-f11a-be05eaeea45c",
        "colab": {
          "base_uri": "https://localhost:8080/",
          "height": 70
        }
      },
      "cell_type": "code",
      "source": [
        "# **kwargs for variable number of keyword arguments \n",
        "# treat the kwargs as being a dictionary that maps each keyword to the value that is passed \n",
        "def define_user(name, **info):\n",
        "  user_dict={}\n",
        "  \n",
        "  user_dict['name'] = name\n",
        "  \n",
        "  for k,v in info.items():\n",
        "    print(k)\n",
        "    user_dict[k] = v\n",
        "    \n",
        "  return user_dict\n",
        "\n",
        "\n",
        "define_user(name = 'john', bday = '23', bmonth = 'jan')"
      ],
      "execution_count": 4,
      "outputs": [
        {
          "output_type": "stream",
          "text": [
            "bday\n",
            "bmonth\n"
          ],
          "name": "stdout"
        },
        {
          "output_type": "execute_result",
          "data": {
            "text/plain": [
              "{'bday': '23', 'bmonth': 'jan', 'name': 'john'}"
            ]
          },
          "metadata": {
            "tags": []
          },
          "execution_count": 4
        }
      ]
    },
    {
      "metadata": {
        "id": "jMRImgiSOWtX",
        "colab_type": "code",
        "colab": {}
      },
      "cell_type": "code",
      "source": [
        ""
      ],
      "execution_count": 0,
      "outputs": []
    },
    {
      "metadata": {
        "id": "vMSLLHZDKZxo",
        "colab_type": "text"
      },
      "cell_type": "markdown",
      "source": [
        "## Modules (libraries)\n",
        "* collection of functions in one .py file \n",
        "* .py file is just a text file that contains a bunch of code\n",
        "* can put a bunch of related functions into a module so that you can import the module and then get access to all the functionality. \n",
        "* note the %% functionality - its called a \"cell magic\". \n",
        "** %%writefile will write all the code in the cell to a .py file.  "
      ]
    },
    {
      "metadata": {
        "id": "-tpfP9JOKfkS",
        "colab_type": "code",
        "outputId": "62121eea-f697-483c-8722-28a4fb694105",
        "colab": {
          "base_uri": "https://localhost:8080/",
          "height": 35
        }
      },
      "cell_type": "code",
      "source": [
        "%%writefile some_random_tools.py\n",
        "\n",
        "def square(x):\n",
        "  z = x**2\n",
        "  return z\n",
        "\n",
        "def cube(x):\n",
        "  z = x**3\n",
        "  return z\n",
        "\n",
        "def mult_10(x):\n",
        "  z = x * 10\n",
        "  return z\n",
        "\n",
        "\n"
      ],
      "execution_count": 6,
      "outputs": [
        {
          "output_type": "stream",
          "text": [
            "Writing some_random_tools.py\n"
          ],
          "name": "stdout"
        }
      ]
    },
    {
      "metadata": {
        "id": "wTZ4cK_ALODj",
        "colab_type": "code",
        "colab": {}
      },
      "cell_type": "code",
      "source": [
        "# import the module and give it a handy-to-use alias\n",
        "import some_random_tools as srt"
      ],
      "execution_count": 0,
      "outputs": []
    },
    {
      "metadata": {
        "id": "VlwEfYamLr0B",
        "colab_type": "code",
        "colab": {}
      },
      "cell_type": "code",
      "source": [
        "# import just one function from the module\n",
        "# i would caution people about using this as it can cause\n",
        "# multiple functions with the same name...can be useful though.\n",
        "from some_random_tools import cube\n"
      ],
      "execution_count": 0,
      "outputs": []
    },
    {
      "metadata": {
        "id": "UKjx0pzYMOD7",
        "colab_type": "code",
        "outputId": "9feb9408-c01f-455a-e420-797836063d45",
        "colab": {
          "base_uri": "https://localhost:8080/",
          "height": 35
        }
      },
      "cell_type": "code",
      "source": [
        "# import a specific function from a module AND give it an alias. \n",
        "\n",
        "from some_random_tools import cube as cb\n",
        "cb(10)\n",
        "\n",
        "from random import random"
      ],
      "execution_count": 0,
      "outputs": [
        {
          "output_type": "execute_result",
          "data": {
            "text/plain": [
              "1000"
            ]
          },
          "metadata": {
            "tags": []
          },
          "execution_count": 40
        }
      ]
    },
    {
      "metadata": {
        "id": "r89HLDBqMyiJ",
        "colab_type": "text"
      },
      "cell_type": "markdown",
      "source": [
        "## recursion"
      ]
    },
    {
      "metadata": {
        "id": "Ue4VSKCXM2qA",
        "colab_type": "code",
        "outputId": "dda6d096-1aae-4671-cfe1-77faf504848d",
        "colab": {
          "base_uri": "https://localhost:8080/",
          "height": 87
        }
      },
      "cell_type": "code",
      "source": [
        "# classic example of recursion, or a function calling itself!\n",
        "def factorial(n):\n",
        "  if n==1:\n",
        "    print('end of recursion')\n",
        "    return 1\n",
        "  else:\n",
        "    print('current value of n:', str(n))\n",
        "    result = n * factorial(n-1)\n",
        "    return result\n",
        "  \n",
        "print(factorial(3))"
      ],
      "execution_count": 0,
      "outputs": [
        {
          "output_type": "stream",
          "text": [
            "current value of n: 3\n",
            "current value of n: 2\n",
            "end of recursion\n",
            "6\n"
          ],
          "name": "stdout"
        }
      ]
    }
  ]
}