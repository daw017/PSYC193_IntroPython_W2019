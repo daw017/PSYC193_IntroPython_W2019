{
  "nbformat": 4,
  "nbformat_minor": 0,
  "metadata": {
    "colab": {
      "name": "Class08_InClass_Code_NumPy.ipynb",
      "version": "0.3.2",
      "provenance": [],
      "collapsed_sections": []
    },
    "kernelspec": {
      "display_name": "Python 3",
      "language": "python",
      "name": "python3"
    }
  },
  "cells": [
    {
      "metadata": {
        "id": "5sWRSLkpJExq",
        "colab_type": "text"
      },
      "cell_type": "markdown",
      "source": [
        "# Intro to NumPy\n",
        "\n",
        "* NumPy is the main scientific computing package for Python - it allows you to easily work with large arrays of data and supports functionality for many common operations (including linear algebra)\n",
        "\n",
        "* All about doing computations on large data sets all at once - can do many many things without looping! Much more effecient\n",
        "\n",
        "-  [based on this numpy quickstart guide](https://docs.scipy.org/doc/numpy/user/quickstart.html)\n",
        "\n",
        "-  [NumPy main page](http://www.numpy.org/)\n",
        "\n",
        "- [NumPY and SciPy doc page](https://docs.scipy.org/doc/)"
      ]
    },
    {
      "metadata": {
        "id": "sD2uLYMEJExs",
        "colab_type": "code",
        "colab": {}
      },
      "cell_type": "code",
      "source": [
        "# import numpy and other stuff for this tutorial\n",
        "import numpy as np\n",
        "\n",
        "# import a specific function from NumPy cause we'll use it a lot\n",
        "from numpy import pi\n",
        "\n",
        "# functionality for plotting\n",
        "import matplotlib.pyplot as plt"
      ],
      "execution_count": 0,
      "outputs": []
    },
    {
      "metadata": {
        "id": "D3LPdpS7JExw",
        "colab_type": "text"
      },
      "cell_type": "markdown",
      "source": [
        "## initialize array and a few basic operations"
      ]
    },
    {
      "metadata": {
        "id": "nGcWqQ0GJExy",
        "colab_type": "code",
        "colab": {}
      },
      "cell_type": "code",
      "source": [
        "# set up an array and figure out shape...  \n",
        "# np.arange method works just like the built in range function\n",
        "my_array = np.arange(10)   \n",
        "print(my_array)\n",
        "\n",
        "# the interval includes `start` but excludes `stop`, overal interval [start...stop-1]\n",
        "\n",
        "my_array.shape     "
      ],
      "execution_count": 0,
      "outputs": []
    },
    {
      "metadata": {
        "id": "yenW-06dSPSM",
        "colab_type": "code",
        "colab": {}
      },
      "cell_type": "code",
      "source": [
        "# can specify start, stop and step\n",
        "seq_array = np.arange(0,30,5)     # start, stop (stop at < X), step size\n",
        "print(seq_array)\n",
        "# note that 30 is not in there..."
      ],
      "execution_count": 0,
      "outputs": []
    },
    {
      "metadata": {
        "scrolled": true,
        "id": "pppXNWMtJEx6",
        "colab_type": "code",
        "colab": {}
      },
      "cell_type": "code",
      "source": [
        "# reshape array\n",
        "my_array = np.arange(36)\n",
        "my_array = my_array.reshape(6,6)    # 3,12,  9,4\n",
        "print(my_array.shape)   \n",
        "print(my_array)\n",
        "# why is (2,5) and (5,2) ok but (2,6) not ok? "
      ],
      "execution_count": 0,
      "outputs": []
    },
    {
      "metadata": {
        "id": "eczmXn493m99",
        "colab_type": "code",
        "colab": {}
      },
      "cell_type": "code",
      "source": [
        "\n",
        "# reshape array - more complex...\n",
        "my_array = np.arange(100)\n",
        "my_array = my_array.reshape(5,5,4)   # 2,5,10\n",
        "my_array.shape   \n",
        "print(my_array)\n",
        "\n",
        "# NOTICE how the dims stack on top of each other! there are 5, 5x4 matrices"
      ],
      "execution_count": 0,
      "outputs": []
    },
    {
      "metadata": {
        "id": "KzTT3uTOJEyB",
        "colab_type": "text"
      },
      "cell_type": "markdown",
      "source": [
        "## data types (and remember - strong typed language)"
      ]
    },
    {
      "metadata": {
        "id": "G2G0GXDjJEyC",
        "colab_type": "code",
        "colab": {}
      },
      "cell_type": "code",
      "source": [
        "print('Dims of data:', my_array.ndim)              # number of dims\n",
        "print('Name of data type:', my_array.dtype)   # name of data type (float, int32, int64 etc)\n",
        "print('Size of each element (bytes):', my_array.itemsize)          # size of each element in bytes\n",
        "print('Total number of elements in array:', my_array.size)         # total number of elements in array"
      ],
      "execution_count": 0,
      "outputs": []
    },
    {
      "metadata": {
        "id": "cZV5wJLiSwVJ",
        "colab_type": "text"
      },
      "cell_type": "markdown",
      "source": [
        "### infer data types upon array creation"
      ]
    },
    {
      "metadata": {
        "id": "rkMMQeB0JEyG",
        "colab_type": "code",
        "colab": {}
      },
      "cell_type": "code",
      "source": [
        "# will infer data type based on input values...here we have 1 float so the whole thing is float\n",
        "float_array = np.array([1.2,2,3])  \n",
        "float_array.dtype             # or np.dtype"
      ],
      "execution_count": 0,
      "outputs": []
    },
    {
      "metadata": {
        "id": "lh_e9PGPJEyJ",
        "colab_type": "code",
        "colab": {}
      },
      "cell_type": "code",
      "source": [
        "# can also specify type upon array creation\n",
        "# here make a 2D array of int32s\n",
        "int_array = np.array([[1,2], [6,7]], dtype = 'int32')   # complex, float32, float64, int32, uint32 (unsigned int32), etc\n",
        "\n",
        "# can also use tuples! any array-like input of numerical values\n",
        "int_array = np.array(((1,2), (6,7)), dtype = 'int32')   # complex, float32, float64, int32, uint32 (unsigned int32), etc\n",
        "\n",
        "print(int_array.dtype)\n",
        "print(int_array)"
      ],
      "execution_count": 0,
      "outputs": []
    },
    {
      "metadata": {
        "id": "_h_-KWZNJEyN",
        "colab_type": "text"
      },
      "cell_type": "markdown",
      "source": [
        "### what happens if you initialize with floating point numbers but you declare an int data type?"
      ]
    },
    {
      "metadata": {
        "id": "ArCaRVLxJEyO",
        "colab_type": "code",
        "colab": {}
      },
      "cell_type": "code",
      "source": [
        "int_array = np.array([1.1,7.5], dtype = 'int32')   # complex, float32, float64, int32, uint32 (unsigned int32), etc\n",
        "int_array"
      ],
      "execution_count": 0,
      "outputs": []
    },
    {
      "metadata": {
        "id": "UuthWANqJEyT",
        "colab_type": "text"
      },
      "cell_type": "markdown",
      "source": [
        "## Allocate arrays of zeros, ones or rand to reserve the memory before filling up later "
      ]
    },
    {
      "metadata": {
        "id": "Mi_v6_5uJEyU",
        "colab_type": "text"
      },
      "cell_type": "markdown",
      "source": [
        "<div class=\"alert alert-info\">\n",
        "handy when you know what size you need, but you're not ready to fill it up yet...saves you from dynamically resizing the matrix during analysis, which is very slow\n",
        "</div>"
      ]
    },
    {
      "metadata": {
        "id": "XytNN_BOJEyV",
        "colab_type": "code",
        "colab": {}
      },
      "cell_type": "code",
      "source": [
        "# note the () around the dims because you usually specify as a tuple...\n",
        "# default type is float64...can also pass in a list\n",
        "zero_array = np.zeros( (3,4) )   \n",
        "print('Data type:', zero_array.dtype)\n",
        "\n",
        "# explicilty declare data type\n",
        "zero_array = np.zeros( (3,4), dtype=np.int32)    \n",
        "print(zero_array.dtype)\n",
        "print(zero_array)"
      ],
      "execution_count": 0,
      "outputs": []
    },
    {
      "metadata": {
        "id": "h_bqMfUCJEyX",
        "colab_type": "code",
        "colab": {}
      },
      "cell_type": "code",
      "source": [
        "# ones\n",
        "# note the 3D output below...4, 4x4 squares of floating point 1s...\n",
        "np.ones( (4,4,4), dtype=np.float64 )"
      ],
      "execution_count": 0,
      "outputs": []
    },
    {
      "metadata": {
        "id": "3RgOIZocuVlW",
        "colab_type": "code",
        "colab": {}
      },
      "cell_type": "code",
      "source": [
        "\n",
        "# what if you want to initialize an array of 10s?\n",
        "np.ones( (4,4,4), dtype=np.float64 ) * 10"
      ],
      "execution_count": 0,
      "outputs": []
    },
    {
      "metadata": {
        "id": "90pmx7PzJEyb",
        "colab_type": "code",
        "colab": {}
      },
      "cell_type": "code",
      "source": [
        "# and empty...not really 'empty' but initialized with varible output determined \n",
        "# by current state of memory\n",
        "np.empty( (2,2,2), dtype = np.float32)"
      ],
      "execution_count": 0,
      "outputs": []
    },
    {
      "metadata": {
        "id": "eys3c2oFuffi",
        "colab_type": "code",
        "colab": {}
      },
      "cell_type": "code",
      "source": [
        "# an alternate way to initialize an array with arbitrary values\n",
        "# note that 'full' will guess best data type given init value\n",
        "arr = np.full((2,2), np.nan)"
      ],
      "execution_count": 0,
      "outputs": []
    },
    {
      "metadata": {
        "id": "WzBr_EsvJEye",
        "colab_type": "text"
      },
      "cell_type": "markdown",
      "source": [
        "## Can also create sequences of numbers using arange..."
      ]
    },
    {
      "metadata": {
        "id": "xv8ig-lMJEym",
        "colab_type": "code",
        "colab": {}
      },
      "cell_type": "code",
      "source": [
        "seq_array = np.arange(0,10,.56788)    # decimal input is ok too \n",
        "# (and again - stop is NOT included)\n",
        "print(seq_array)"
      ],
      "execution_count": 0,
      "outputs": []
    },
    {
      "metadata": {
        "id": "_2o8b7-kJEyp",
        "colab_type": "text"
      },
      "cell_type": "markdown",
      "source": [
        "Because of machine precision issues, sometimes hard to predict how many elements will end up in an array when initialized using arange...so often better to specify a sequence based on start point, stop point, and the exact number of elements that you want (or the number of steps between start and stop). linspace (linear spacing) is the function to do this, and note that unlike arange that ends < stop point, linspace will always end exactly at the specified stop point. "
      ]
    },
    {
      "metadata": {
        "id": "3RxxTXohJEyq",
        "colab_type": "code",
        "colab": {}
      },
      "cell_type": "code",
      "source": [
        "# start, stop, number of linearly spaced steps between start and stop...\n",
        "# note that start AND stop included!\n",
        "lin = np.linspace(0,180,9) \n",
        "print(lin_array)"
      ],
      "execution_count": 0,
      "outputs": []
    },
    {
      "metadata": {
        "id": "LDqUjtsHJEyt",
        "colab_type": "text"
      },
      "cell_type": "markdown",
      "source": [
        "## Common use of linspace...eval a function over an interval. quick intro to basic plotting here too..."
      ]
    },
    {
      "metadata": {
        "id": "cbVOQWCQJEyu",
        "colab_type": "code",
        "colab": {}
      },
      "cell_type": "code",
      "source": [
        "# eval sin function over an interval\n",
        "lin = np.linspace(0, 2*pi, 360)\n",
        "sw = np.sin(lin)\n",
        "\n",
        "# plotting - can play with formatting here...change line color and other \n",
        "# properties\n",
        "# note we assign a handle\n",
        "h = plt.plot(lin_arr*180/pi, sw, 'ro-', linewidth = 4)    # specify x,y data...convert rad to deg for x-axis\n",
        "\n",
        "# label each axis and give it a title\n",
        "plt.xlabel('angle (deg)')\n",
        "plt.ylabel('Amplitude')\n",
        "plt.title('Sin Wave')\n",
        "plt.grid(1)\n",
        "plt.show()"
      ],
      "execution_count": 0,
      "outputs": []
    },
    {
      "metadata": {
        "id": "Q-la4eILT6B7",
        "colab_type": "code",
        "colab": {}
      },
      "cell_type": "code",
      "source": [
        "# Controlling figure properties. \n",
        "\n",
        "# figure out all settings to tweak...\n",
        "plt.setp(h)"
      ],
      "execution_count": 0,
      "outputs": []
    },
    {
      "metadata": {
        "id": "tORSCxH-UDDP",
        "colab_type": "code",
        "colab": {}
      },
      "cell_type": "code",
      "source": [
        "# eval sin function over an interval\n",
        "lin = np.linspace(0, 2*pi, 360)\n",
        "sw = np.sin(lin)\n",
        "\n",
        "# plot\n",
        "h = plt.plot(lin_arr*180/pi, sw, 'ko-', linewidth = 4)    # specify x,y data...convert rad to deg for x-axis\n",
        "\n",
        "plt.xlabel('angle (deg)')\n",
        "plt.ylabel('Amplitude')\n",
        "plt.title('Sin Wave')\n",
        "plt.grid(1)\n",
        "plt.setp(h, 'markersize', 15) \n",
        "plt.setp(h, 'alpha', .05) \n",
        "\n",
        "plt.show()"
      ],
      "execution_count": 0,
      "outputs": []
    },
    {
      "metadata": {
        "id": "tq5POCdkJEzN",
        "colab_type": "text"
      },
      "cell_type": "markdown",
      "source": [
        "### More plotting...scatterplots and legends"
      ]
    },
    {
      "metadata": {
        "id": "4GaGNbpSJEzO",
        "colab_type": "code",
        "colab": {}
      },
      "cell_type": "code",
      "source": [
        "# Scatter plots..\n",
        "N = 30\n",
        "x = np.linspace(0,9,N)\n",
        "\n",
        "# random method! - randn like rand but draws from N(0,var)\n",
        "# What does the *3 do here?\n",
        "y = x + np.random.randn(1,x.size)*3   # make a second vector x + some randn noise \n",
        "\n",
        "plt.scatter(x, y, s=50, c='green', alpha=.5, label=\"X vs Y\")  # note alpha or transparency\n",
        "plt.xlabel(\"X\")\n",
        "plt.ylabel(\"Y\")\n",
        "\n",
        "# add a legend!\n",
        "plt.legend(loc=2)   # 1-4 for each corner of the plot\n",
        "\n",
        "# show the plot\n",
        "plt.show()\n",
        "\n",
        "# all, any, apply_along_axis, argmax, argmin, argsort, average, ...\n",
        "# bincount, ceil, clip, conj, corrcoef, cov, cross, cumprod, cumsum, ...\n",
        "# diff, dot, floor, inner, inv, lexsort, max, maximum, mean, median, ...\n",
        "# min, minimum, nonzero, outer, prod, re, round, sort, std, sum, trace, ...\n",
        "# transpose, var, vdot, vectorize, where"
      ],
      "execution_count": 0,
      "outputs": []
    },
    {
      "metadata": {
        "id": "2RzEEvoeJEy8",
        "colab_type": "text"
      },
      "cell_type": "markdown",
      "source": [
        "## BIG POINT _ ARRAY LIKE OPERATIONS: Simple elementwise arithmetic operations like + and - work on corresponding elements of arrays."
      ]
    },
    {
      "metadata": {
        "id": "OqJyvUa3JEy9",
        "colab_type": "code",
        "colab": {}
      },
      "cell_type": "code",
      "source": [
        "x = np.linspace(0,2*pi,360)\n",
        "\n",
        "y = np.sin(x)\n",
        "\n",
        "print(x-y)\n"
      ],
      "execution_count": 0,
      "outputs": []
    },
    {
      "metadata": {
        "id": "Gy_KZ3vvJEzE",
        "colab_type": "text"
      },
      "cell_type": "markdown",
      "source": [
        "### when dealing with muliple arrays of different data types, resulting array will take the form of the highest precision input array (upcasting)!\n"
      ]
    },
    {
      "metadata": {
        "id": "CrEaNjmQJEzF",
        "colab_type": "code",
        "colab": {}
      },
      "cell_type": "code",
      "source": [
        "# declare dtype as int32\n",
        "x = np.arange(10, dtype='int32')\n",
        "\n",
        "# this will default to float64\n",
        "y = np.random.randn(1,10)\n",
        "\n",
        "# now multiply the int32 array with the float64 array and answer should be the \n",
        "# higher precision of the two (float64)\n",
        "z = x * y \n",
        "print('z data type: ', z.dtype)"
      ],
      "execution_count": 0,
      "outputs": []
    },
    {
      "metadata": {
        "id": "NQUxNYcBJEzH",
        "colab_type": "text"
      },
      "cell_type": "markdown",
      "source": [
        "## Unary operations implemented as methods of the ndarray class"
      ]
    },
    {
      "metadata": {
        "id": "mXSKiAKdJEzI",
        "colab_type": "code",
        "colab": {}
      },
      "cell_type": "code",
      "source": [
        "# note the method chain...\n",
        "x = np.arange(10).reshape(2,5)   # 2 x 5 matrix\n",
        "\n",
        "print(x.sum())                   # sum of all elements\n",
        "print(x.sum(axis=0))             # sum of each column (across 1st dim)\n",
        "print(x.sum(axis=1))             # sum of each row (across 2nd dim)\n",
        "print(x.sum(0))                  # don't need the axis arg, can just specify"
      ],
      "execution_count": 0,
      "outputs": []
    },
    {
      "metadata": {
        "id": "cBxUI6kDJEzK",
        "colab_type": "text"
      },
      "cell_type": "markdown",
      "source": [
        "## Other common operations..."
      ]
    },
    {
      "metadata": {
        "id": "7mbvtJ-kJEzQ",
        "colab_type": "text"
      },
      "cell_type": "markdown",
      "source": [
        "## Set logic...."
      ]
    },
    {
      "metadata": {
        "id": "FSRFcH_NJEzR",
        "colab_type": "code",
        "colab": {}
      },
      "cell_type": "code",
      "source": [
        "x = np.arange(20)\n",
        "y = np.linspace(0, 20, 21)\n",
        "print(x.size)\n",
        "print(y.size)\n",
        "\n",
        "z = np.union1d(x,y)\n",
        "print(z, z.size)\n",
        "\n",
        "# z = np.intersect1d(x,y)\n",
        "# print(z)\n",
        "\n",
        "# z = np.unique([np.append(x,y)])\n",
        "# print(z)"
      ],
      "execution_count": 0,
      "outputs": []
    },
    {
      "metadata": {
        "id": "p4V2YuvtJEzU",
        "colab_type": "text"
      },
      "cell_type": "markdown",
      "source": [
        "## Slicing..."
      ]
    },
    {
      "metadata": {
        "id": "J6FZ_5u7b7lX",
        "colab_type": "code",
        "colab": {}
      },
      "cell_type": "code",
      "source": [
        "# create a 1d array\n",
        "x = np.linspace(0,9,10)\n",
        "print(x)\n",
        "x[1]                     # just the second entry, remember 0 based indexing\n",
        "\n",
        "# specific start and stop points (exclusive)\n",
        "x[0:2]                   # the first and second entries in the array, so N>=0 and N<2 (note the < upper bound - not inclusive)\n",
        "\n",
        "# assign the 2nd - 4th element to 100 (index 1,2,3)\n",
        "x[1:4] = 100               \n",
        "print(x[1:4])\n",
        "\n",
        "# start, stop, step interval\n",
        "print(x[0:8:2])\n",
        "\n",
        "# reverse x\n",
        "print(x[::-1])\n",
        "\n",
        "# iterate over all elements in 1D array x\n",
        "for i in x:\n",
        "    print(i*3)    # then i takes the value of each element in x\n",
        "    "
      ],
      "execution_count": 0,
      "outputs": []
    },
    {
      "metadata": {
        "id": "Fd_dFqkQb7li",
        "colab_type": "text"
      },
      "cell_type": "markdown",
      "source": [
        "## multidimentional array indexing, slicing etc"
      ]
    },
    {
      "metadata": {
        "id": "rmS19cX1b7lj",
        "colab_type": "code",
        "colab": {}
      },
      "cell_type": "code",
      "source": [
        "x = np.round(np.random.rand(10,5)*10)   # generate a matrix of uniformly distributed random numbers over 0:10\n",
        "print(x)\n",
        "\n",
        "x[0,0]     # first row, first column\n",
        "x[2,3]     # third row, 4th column\n",
        "\n",
        "x[:, 3]    # all entries in the 4th column \n",
        "x[3, :]    # all entries in the 4th row\n",
        "x[0:2, 4]  # first two entries of the 5th column\n",
        "x[6, 2:4]  # 7th row, 3rd and 4th entries. \n",
        "\n",
        "# if not all dims specified then missing values are considered complete slices\n",
        "# these three ways of writing all do the same thing...\n",
        "x[6]       \n",
        "x[6,]\n",
        "x[6,:]\n",
        "\n",
        "# tricks...\n",
        "print('last row: ', x[-1,:])     # last row\n",
        "print('last column: ', x[:,-1])  # last column\n",
        "print('last entry: ', x[-1,-1])  # last value\n",
        "\n",
        "# iterating goes over the first dim (rows)\n",
        "for r in x:\n",
        "     print(r)\n",
        "        \n",
        "# can also iterate over all entries in the array using 'flat'\n",
        "# will proceed along 1st row, then to 2nd row, etc. \n",
        "for a in x.flat:\n",
        "    print(a)"
      ],
      "execution_count": 0,
      "outputs": []
    },
    {
      "metadata": {
        "id": "34C4-Jhgb7lm",
        "colab_type": "text"
      },
      "cell_type": "markdown",
      "source": [
        "## pull out subset of rows and columns"
      ]
    },
    {
      "metadata": {
        "id": "N1PhyAAbb7ln",
        "colab_type": "code",
        "colab": {}
      },
      "cell_type": "code",
      "source": [
        "# generate a matrix of random numbers over 0-1\n",
        "x = np.random.rand(4,3) \n",
        "print(x)\n",
        "\n",
        "# first two rows - note that you don't have to specify the 2nd dim - and note that \n",
        "# '2' here means rows 0 and 1 (not 0 through 2!)\n",
        "y = x[:2] \n",
        "print('\\n', y)\n",
        "\n",
        "# can also take the last two rows...in the same manner...in this case rows 3 and 4\n",
        "y = x[2:] \n",
        "print('\\n', y)\n",
        "\n",
        "# first two rows, 1st column\n",
        "y = x[:2,0] \n",
        "print('\\n', y)\n",
        "\n",
        "# rows 3 - end, columns 2 - end\n",
        "y = x[2:,1:]\n",
        "print('\\n', y)"
      ],
      "execution_count": 0,
      "outputs": []
    },
    {
      "metadata": {
        "id": "pQyROZNOb7lq",
        "colab_type": "text"
      },
      "cell_type": "markdown",
      "source": [
        "\n",
        "## important - slicing an array creates a view of it! if you change the view, you also will change the original data!\n"
      ]
    },
    {
      "metadata": {
        "id": "IzLJNy6vb7ls",
        "colab_type": "code",
        "colab": {}
      },
      "cell_type": "code",
      "source": [
        "z = x[2,]\n",
        "print(z.shape)\n",
        "\n",
        "# change all values in z using [:]\n",
        "z[:]=100     # so if you change data in z it will also change in x\n",
        "\n",
        "print(x)"
      ],
      "execution_count": 0,
      "outputs": []
    },
    {
      "metadata": {
        "id": "9IyzlEVUWGsD",
        "colab_type": "code",
        "colab": {}
      },
      "cell_type": "code",
      "source": [
        "# using logical indexing!\n",
        "x = np.arange(0,10)\n",
        "# note that in NumPy we use & for bitwise comparisons instead of and\n",
        "y = x[(x>3) & (x<7)]\n",
        "print(y)"
      ],
      "execution_count": 0,
      "outputs": []
    },
    {
      "metadata": {
        "id": "gxnvy6HTb7lw",
        "colab_type": "text"
      },
      "cell_type": "markdown",
      "source": [
        "## Fancy indexing...using arrays to index arrays - used all the time in data analysis..."
      ]
    },
    {
      "metadata": {
        "id": "KC0I4A2Wb7lx",
        "colab_type": "text"
      },
      "cell_type": "markdown",
      "source": [
        "<div class=\"alert alert-info\">\n",
        "fancy indexing always makes a COPY of the data (unlike slicing which creates a view)!!!\n",
        "</div>"
      ]
    },
    {
      "metadata": {
        "id": "bvcLDFGtb7lx",
        "colab_type": "code",
        "colab": {}
      },
      "cell_type": "code",
      "source": [
        "# define an array\n",
        "x = np.random.rand(3,4)\n",
        "\n",
        "# index array - can be a tuple\n",
        "y = (2,3)\n",
        "\n",
        "# index\n",
        "print(x)\n",
        "print('\\n x indexed at tuple y: ', x[y])"
      ],
      "execution_count": 0,
      "outputs": []
    },
    {
      "metadata": {
        "id": "iCP8C5a8b7l1",
        "colab_type": "code",
        "colab": {}
      },
      "cell_type": "code",
      "source": [
        "# can use fancy indexing to extract elements in a particular order\n",
        "print(x)\n",
        "\n",
        "# this will extract the 3rd row, then the 2nd row, then the first row\n",
        "x[[2,1,0]]\n",
        "\n",
        "# and this will extract all rows from the 2nd, 3rd and then 1st column. \n",
        "x[:,[1,2,0]]"
      ],
      "execution_count": 0,
      "outputs": []
    },
    {
      "metadata": {
        "id": "8W9vSsacb7l7",
        "colab_type": "code",
        "colab": {}
      },
      "cell_type": "code",
      "source": [
        "# or can pass in multiple arrays...will return a 1D array \n",
        "# corresponding to each set of tuples (1,1) and (2,2) in this case\n",
        "print(x)\n",
        "x[[1,2],[1,2]]"
      ],
      "execution_count": 0,
      "outputs": []
    }
  ]
}